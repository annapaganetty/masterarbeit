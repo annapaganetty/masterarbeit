{
 "cells": [
  {
   "cell_type": "code",
   "execution_count": 1,
   "metadata": {},
   "outputs": [
    {
     "name": "stderr",
     "output_type": "stream",
     "text": [
      "\u001b[32m\u001b[1m    Updating\u001b[22m\u001b[39m git-repo `https://github.com/matthiasbaitsch/mmjmesh.git`\n",
      "\u001b[32m\u001b[1m   Resolving\u001b[22m\u001b[39m package versions...\n",
      "\u001b[32m\u001b[1m  No Changes\u001b[22m\u001b[39m to `~/.julia/environments/v1.10/Project.toml`\n",
      "\u001b[32m\u001b[1m  No Changes\u001b[22m\u001b[39m to `~/.julia/environments/v1.10/Manifest.toml`\n"
     ]
    }
   ],
   "source": [
    "import Pkg\n",
    "\n",
    "import CairoMakie\n",
    "\n",
    "using IntervalSets\n",
    "using MMJMesh.Gmsh\n",
    "using MMJMesh.Plots\n",
    "using MMJMesh.Meshes\n",
    "using MMJMesh.Utilities\n",
    "using MMJMesh.Mathematics\n",
    "using LinearAlgebra\n",
    "using Symbolics\n",
    "using DomainSets\n",
    "using CairoMakie\n",
    "\n",
    "using GLMakie\n",
    "using WGLMakie\n",
    "WGLMakie.activate!()\n",
    "\n",
    "Pkg.add(url=\"https://github.com/matthiasbaitsch/mmjmesh.git\")"
   ]
  },
  {
   "cell_type": "code",
   "execution_count": 2,
   "metadata": {},
   "outputs": [
    {
     "data": {
      "text/plain": [
       "applyDirichletBCs! (generic function with 1 method)"
      ]
     },
     "metadata": {},
     "output_type": "display_data"
    }
   ],
   "source": [
    "include(\"fem.jl\")"
   ]
  },
  {
   "cell_type": "markdown",
   "metadata": {},
   "source": [
    "### Netzgenerierung für rechteckige Platte\n",
    "\n",
    "#### quadratische FEM-Elemente\n"
   ]
  },
  {
   "cell_type": "code",
   "execution_count": 3,
   "metadata": {},
   "outputs": [
    {
     "data": {
      "text/html": [
       "<div class=\"bonito-fragment\" id=\"bb2c92fd-a3f1-49f1-9286-96bbc9a72c6a\" data-jscall-id=\"root\">\n",
       "  <div>\n",
       "    <script src=\"http://localhost:9391/assets/b083e1717e12fa3233e75a33dd4e1a273d61cf0d-Bonito.bundled.js\" type=\"module\"></script>\n",
       "    <style></style>\n",
       "    <div></div>\n",
       "  </div>\n",
       "  <div>\n",
       "    <script type=\"module\">    Bonito.lock_loading(() => {\n",
       "        return Bonito.fetch_binary('http://localhost:9391/assets/5c73f64d44bb13f9d5ca24d4e1500e9737943ed0-8332628272074861410.bin').then(msgs=> Bonito.init_session('bb2c92fd-a3f1-49f1-9286-96bbc9a72c6a', msgs, 'root'));\n",
       "    })\n",
       "</script>\n",
       "    <script type=\"module\">    import('http://localhost:9391/assets/74c3c63e84450f2cca27e3dfd9768df4729aaaf0-Websocket.bundled.js').then(WS => {\n",
       "        WS.setup_connection({proxy_url: 'http://localhost:9391', session_id: 'bb2c92fd-a3f1-49f1-9286-96bbc9a72c6a', compression_enabled: false})\n",
       "    })\n",
       "</script>\n",
       "    <div style=\"width: 100%; height: 100%\" data-jscall-id=\"1\">\n",
       "      <canvas style=\"display: block\" data-jscall-id=\"2\" tabindex=\"0\"></canvas>\n",
       "    </div>\n",
       "  </div>\n",
       "</div>"
      ]
     },
     "metadata": {},
     "output_type": "display_data"
    },
    {
     "name": "stderr",
     "output_type": "stream",
     "text": [
      "┌ Warning: Port in use, using different port. New port: 9391\n",
      "└ @ Bonito.HTTPServer /Users/annapaganetty/.julia/packages/Bonito/5OnJB/src/HTTPServer/implementation.jl:278\n"
     ]
    }
   ],
   "source": [
    "l = 10\n",
    "m = makemeshonrectangle(8.0, 8.0, l, l)\n",
    "mplot(m,edgesvisible=true,edgecolor=:hotpink,nodesvisible=true, nodecolor=:blue, nodesize=5) |> mconf()"
   ]
  },
  {
   "cell_type": "code",
   "execution_count": 4,
   "metadata": {},
   "outputs": [],
   "source": [
    "p = (\n",
    "    E = 31000e6,\n",
    "    h = 0.2,\n",
    "    ν = 0,\n",
    "    q = 5e3);"
   ]
  },
  {
   "cell_type": "code",
   "execution_count": 5,
   "metadata": {},
   "outputs": [
    {
     "data": {
      "text/plain": [
       "(::var\"#reFunc#10\"{Float64}) (generic function with 1 method)"
      ]
     },
     "metadata": {},
     "output_type": "display_data"
    }
   ],
   "source": [
    "m.data[:kefunc] = plateKe(p)\n",
    "m.data[:refunc] = plateRe(p.q)"
   ]
  },
  {
   "cell_type": "code",
   "execution_count": 6,
   "metadata": {},
   "outputs": [
    {
     "data": {
      "text/plain": [
       "1.1371343877676028e11"
      ]
     },
     "metadata": {},
     "output_type": "display_data"
    }
   ],
   "source": [
    "K,r = assembleKr(m,3)\n",
    "maximum(K\\r)"
   ]
  },
  {
   "cell_type": "code",
   "execution_count": 7,
   "metadata": {},
   "outputs": [
    {
     "data": {
      "text/plain": [
       "0.001273039923892691"
      ]
     },
     "metadata": {},
     "output_type": "display_data"
    }
   ],
   "source": [
    "for rN ∈ m.groups[:boundarynodes]\n",
    "    nodeD = nodeDOFs(rN,3)\n",
    "    applyDirichletBCs!(nodeD, K, r)\n",
    "end\n",
    "ma = maximum(K\\r)"
   ]
  },
  {
   "cell_type": "code",
   "execution_count": 8,
   "metadata": {},
   "outputs": [
    {
     "data": {
      "text/plain": [
       "1.4191962393951107"
      ]
     },
     "metadata": {},
     "output_type": "display_data"
    }
   ],
   "source": [
    "w_czerny = 5e3 * 8^4 / (31000e6 * 0.2^3) * 0.0152\n",
    "100 * abs(ma - w_czerny) / w_czerny"
   ]
  }
 ],
 "metadata": {
  "kernelspec": {
   "display_name": "Julia 1.10.0",
   "language": "julia",
   "name": "julia-1.10"
  },
  "language_info": {
   "file_extension": ".jl",
   "mimetype": "application/julia",
   "name": "julia",
   "version": "1.10.0"
  }
 },
 "nbformat": 4,
 "nbformat_minor": 2
}
