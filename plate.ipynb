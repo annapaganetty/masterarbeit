{
 "cells": [
  {
   "cell_type": "code",
   "execution_count": 1,
   "metadata": {},
   "outputs": [
    {
     "name": "stderr",
     "output_type": "stream",
     "text": [
      "\u001b[32m\u001b[1m    Updating\u001b[22m\u001b[39m git-repo `https://github.com/matthiasbaitsch/mmjmesh.git`\n",
      "\u001b[32m\u001b[1m    Updating\u001b[22m\u001b[39m registry at `~/.julia/registries/General.toml`\n",
      "\u001b[32m\u001b[1m   Resolving\u001b[22m\u001b[39m package versions...\n",
      "\u001b[32m\u001b[1m    Updating\u001b[22m\u001b[39m `~/.julia/environments/v1.10/Project.toml`\n",
      "  \u001b[90m[010ee2c9] \u001b[39m\u001b[93m~ MMJMesh v0.1.1 `https://github.com/matthiasbaitsch/mmjmesh.git#main` ⇒ v0.1.1 `https://github.com/matthiasbaitsch/mmjmesh.git#main`\u001b[39m\n",
      "\u001b[32m\u001b[1m    Updating\u001b[22m\u001b[39m `~/.julia/environments/v1.10/Manifest.toml`\n",
      "  \u001b[90m[010ee2c9] \u001b[39m\u001b[93m~ MMJMesh v0.1.1 `https://github.com/matthiasbaitsch/mmjmesh.git#main` ⇒ v0.1.1 `https://github.com/matthiasbaitsch/mmjmesh.git#main`\u001b[39m\n",
      "\u001b[32m\u001b[1mPrecompiling\u001b[22m\u001b[39m project...\n",
      "\u001b[32m  ✓ \u001b[39mMMJMesh\n",
      "  1 dependency successfully precompiled in 15 seconds. 416 already precompiled.\n",
      "WARNING: using Topologies.entities in module Main conflicts with an existing identifier.\n"
     ]
    },
    {
     "data": {
      "text/plain": [
       "3.1e10"
      ]
     },
     "metadata": {},
     "output_type": "display_data"
    }
   ],
   "source": [
    "import Pkg\n",
    "\n",
    "Pkg.add(url=\"https://github.com/matthiasbaitsch/mmjmesh.git\")\n",
    "\n",
    "include(\"setup.jl\")"
   ]
  },
  {
   "cell_type": "code",
   "execution_count": 13,
   "metadata": {},
   "outputs": [
    {
     "name": "stdout",
     "output_type": "stream",
     "text": [
      "Ke[1,1] = Ke[4,4] = Ke[7,7] = Ke[10,10]\n",
      "             = (20E*(a^4)*(h^3) + 7E*(a^2)*(b^2)*(h^3) + 20E*(b^4)*(h^3) + 3E*(a^2)*(b^2)*(h^3)*ν) / (60(a^3)*(b^3)*(1 - (ν^2)))\n",
      "\n",
      "Ke[1,2] = Ke[2,1] = Ke[10,11] = Ke[11,10]\n",
      "             = (E*(a^2)*(h^3) + 20E*(b^2)*(h^3) + 9E*(a^2)*(h^3)*ν) / (120(a^2)*b*(1 - (ν^2)))\n",
      "\n",
      "Ke[1,3] = Ke[3,1] = Ke[4,6] = Ke[6,4]\n",
      "             = (20E*(a^2)*(h^3) + E*(b^2)*(h^3) + 9E*(b^2)*(h^3)*ν) / (120a*(b^2)*(1 - (ν^2)))\n",
      "\n",
      "Ke[1,4] = Ke[4,1] = Ke[7,10] = Ke[10,7]\n",
      "             = (10E*(a^4)*(h^3) - 7E*(a^2)*(b^2)*(h^3) - 20E*(b^4)*(h^3) - 3E*(a^2)*(b^2)*(h^3)*ν) / (60(a^3)*(b^3)*(1 - (ν^2)))\n",
      "\n",
      "Ke[1,5] = Ke[5,1] = Ke[8,10] = Ke[10,8]\n",
      "             = (E*(a^2)*(h^3) + 20E*(b^2)*(h^3) - E*(a^2)*(h^3)*ν) / (120(a^2)*b*(1 - (ν^2)))\n",
      "\n",
      "Ke[1,6] = Ke[3,4] = Ke[4,3] = Ke[6,1]\n",
      "             = (10E*(a^2)*(h^3) - E*(b^2)*(h^3) - 9E*(b^2)*(h^3)*ν) / (120a*(b^2)*(1 - (ν^2)))\n",
      "\n",
      "Ke[1,7] = Ke[4,10] = Ke[7,1] = Ke[10,4]\n",
      "             = (-10E*(a^4)*(h^3) + 7E*(a^2)*(b^2)*(h^3) - 10E*(b^4)*(h^3) + 3E*(a^2)*(b^2)*(h^3)*ν) / (60(a^3)*(b^3)*(1 - (ν^2)))\n",
      "\n",
      "Ke[1,8] = Ke[5,10] = Ke[8,1] = Ke[10,5]\n",
      "             = (-E*(a^2)*(h^3) + 10E*(b^2)*(h^3) + E*(a^2)*(h^3)*ν) / (120(a^2)*b*(1 - (ν^2)))\n",
      "\n",
      "Ke[1,9] = Ke[4,12] = Ke[9,1] = Ke[12,4]\n",
      "             = (10E*(a^2)*(h^3) - E*(b^2)*(h^3) + E*(b^2)*(h^3)*ν) / (120a*(b^2)*(1 - (ν^2)))\n",
      "\n",
      "Ke[1,10] = Ke[4,7] = Ke[7,4] = Ke[10,1]\n",
      "             = (-20E*(a^4)*(h^3) - 7E*(a^2)*(b^2)*(h^3) + 10E*(b^4)*(h^3) - 3E*(a^2)*(b^2)*(h^3)*ν) / (60(a^3)*(b^3)*(1 - (ν^2)))\n",
      "\n",
      "Ke[1,11] = Ke[2,10] = Ke[10,2] = Ke[11,1]\n",
      "             = (-E*(a^2)*(h^3) + 10E*(b^2)*(h^3) - 9E*(a^2)*(h^3)*ν) / (120(a^2)*b*(1 - (ν^2)))\n",
      "\n",
      "Ke[1,12] = Ke[4,9] = Ke[9,4] = Ke[12,1]\n",
      "             = (20E*(a^2)*(h^3) + E*(b^2)*(h^3) - E*(b^2)*(h^3)*ν) / (120a*(b^2)*(1 - (ν^2)))\n",
      "\n",
      "Ke[2,2] = Ke[5,5] = Ke[8,8] = Ke[11,11]\n",
      "             = (E*(a^2)*(h^3) + 10E*(b^2)*(h^3) - E*(a^2)*(h^3)*ν) / (90a*b*(1 - (ν^2)))\n",
      "\n",
      "Ke[2,3] = Ke[3,2] = Ke[8,9] = Ke[9,8]\n",
      "             = (E*(h^3)*ν) / (12(1 - (ν^2)))\n",
      "\n",
      "Ke[2,4] = Ke[4,2] = Ke[7,11] = Ke[11,7]\n",
      "             = (-E*(a^2)*(h^3) - 20E*(b^2)*(h^3) + E*(a^2)*(h^3)*ν) / (120(a^2)*b*(1 - (ν^2)))\n",
      "\n",
      "Ke[2,5] = Ke[5,2] = Ke[8,11] = Ke[11,8]\n",
      "             = (-E*(a^2)*(h^3) + 20E*(b^2)*(h^3) + E*(a^2)*(h^3)*ν) / (360a*b*(1 - (ν^2)))\n",
      "\n",
      "Ke[2,6] = Ke[2,9] = Ke[2,12] = Ke[3,5] = Ke[3,8] = Ke[3,11] = Ke[5,3] = Ke[5,9] = Ke[5,12] = Ke[6,2] = Ke[6,8] = Ke[6,11] = Ke[8,3] = Ke[8,6] = Ke[8,12] = Ke[9,2] = Ke[9,5] = Ke[9,11] = Ke[11,3] = Ke[11,6] = Ke[11,9] = Ke[12,2] = Ke[12,5] = Ke[12,8]\n",
      "             = 0\n",
      "\n",
      "Ke[2,7] = Ke[4,11] = Ke[7,2] = Ke[11,4]\n",
      "             = (E*(a^2)*(h^3) - 10E*(b^2)*(h^3) - E*(a^2)*(h^3)*ν) / (120(a^2)*b*(1 - (ν^2)))\n",
      "\n",
      "Ke[2,8] = Ke[5,11] = Ke[8,2] = Ke[11,5]\n",
      "             = (E*(a^2)*(h^3) + 10E*(b^2)*(h^3) - E*(a^2)*(h^3)*ν) / (360a*b*(1 - (ν^2)))\n",
      "\n",
      "Ke[2,11] = Ke[5,8] = Ke[8,5] = Ke[11,2]\n",
      "             = (-E*(a^2)*(h^3) + 5E*(b^2)*(h^3) + E*(a^2)*(h^3)*ν) / (90a*b*(1 - (ν^2)))\n",
      "\n",
      "Ke[3,3] = Ke[6,6] = Ke[9,9] = Ke[12,12]\n",
      "             = (10E*(a^2)*(h^3) + E*(b^2)*(h^3) - E*(b^2)*(h^3)*ν) / (90a*b*(1 - (ν^2)))\n",
      "\n",
      "Ke[3,6] = Ke[6,3] = Ke[9,12] = Ke[12,9]\n",
      "             = (5E*(a^2)*(h^3) - E*(b^2)*(h^3) + E*(b^2)*(h^3)*ν) / (90a*b*(1 - (ν^2)))\n",
      "\n",
      "Ke[3,7] = Ke[6,10] = Ke[7,3] = Ke[10,6]\n",
      "             = (-10E*(a^2)*(h^3) + E*(b^2)*(h^3) - E*(b^2)*(h^3)*ν) / (120a*(b^2)*(1 - (ν^2)))\n",
      "\n",
      "Ke[3,9] = Ke[6,12] = Ke[9,3] = Ke[12,6]\n",
      "             = (10E*(a^2)*(h^3) + E*(b^2)*(h^3) - E*(b^2)*(h^3)*ν) / (360a*b*(1 - (ν^2)))\n",
      "\n",
      "Ke[3,10] = Ke[6,7] = Ke[7,6] = Ke[10,3]\n",
      "             = (-20E*(a^2)*(h^3) - E*(b^2)*(h^3) + E*(b^2)*(h^3)*ν) / (120a*(b^2)*(1 - (ν^2)))\n",
      "\n",
      "Ke[3,12] = Ke[6,9] = Ke[9,6] = Ke[12,3]\n",
      "             = (20E*(a^2)*(h^3) - E*(b^2)*(h^3) + E*(b^2)*(h^3)*ν) / (360a*b*(1 - (ν^2)))\n",
      "\n",
      "Ke[4,5] = Ke[5,4] = Ke[7,8] = Ke[8,7]\n",
      "             = (-E*(a^2)*(h^3) - 20E*(b^2)*(h^3) - 9E*(a^2)*(h^3)*ν) / (120(a^2)*b*(1 - (ν^2)))\n",
      "\n",
      "Ke[4,8] = Ke[5,7] = Ke[7,5] = Ke[8,4]\n",
      "             = (E*(a^2)*(h^3) - 10E*(b^2)*(h^3) + 9E*(a^2)*(h^3)*ν) / (120(a^2)*b*(1 - (ν^2)))\n",
      "\n",
      "Ke[5,6] = Ke[6,5] = Ke[11,12] = Ke[12,11]\n",
      "             = (-E*(h^3)*ν) / (12(1 - (ν^2)))\n",
      "\n",
      "Ke[7,9] = Ke[9,7] = Ke[10,12] = Ke[12,10]\n",
      "             = (-20E*(a^2)*(h^3) - E*(b^2)*(h^3) - 9E*(b^2)*(h^3)*ν) / (120a*(b^2)*(1 - (ν^2)))\n",
      "\n",
      "Ke[7,12] = Ke[9,10] = Ke[10,9] = Ke[12,7]\n",
      "             = (-10E*(a^2)*(h^3) + E*(b^2)*(h^3) + 9E*(b^2)*(h^3)*ν) / (120a*(b^2)*(1 - (ν^2)))\n",
      "\n"
     ]
    }
   ],
   "source": [
    "include(\"weak_form_hartmann.jl\")"
   ]
  },
  {
   "cell_type": "code",
   "execution_count": 2,
   "metadata": {},
   "outputs": [],
   "source": [
    "dofs = zeros(40)      \n",
    "ma = zeros(40)\n",
    "\n",
    "for i = 1:40\n",
    "        m,w = plate(p, 2*i)     # nx = ny = Anzahl der Elemente in x- bzw y-Richtung \n",
    "        # DOFs\n",
    "        bN = m.groups[:boundarynodes]\n",
    "        dofs[i] = nnodes(m) * 3 -  size(bN,1) * 3\n",
    "        # max w\n",
    "        u = zeros(trunc(Int,(size(w,1)/3)))\n",
    "        for i = 1:(trunc(Int,(size(w,1)/3)))\n",
    "                u[i] = w[i*3-2]\n",
    "        end\n",
    "        ma[i] = maximum(w)\n",
    "end"
   ]
  },
  {
   "cell_type": "code",
   "execution_count": 9,
   "metadata": {},
   "outputs": [
    {
     "name": "stderr",
     "output_type": "stream",
     "text": [
      "WARNING: using Plots.scatter! in module Main conflicts with an existing identifier.\n"
     ]
    }
   ],
   "source": [
    "using Plots\n",
    "Plots.plot(dofs, ma*1000)\n",
    "Plots.plot!(title = \"Konvergenzplot\", xlabel = \"Anzahl Freheitsgrade\", ylabel = \"maximale Verformung [mm]\")\n",
    "Plots.plot!(xlims = (0, 4000), ylims = (1.25, 1.35), xticks = 0:1000:4000, yticks = 1.26:0.02:1.34);"
   ]
  },
  {
   "cell_type": "code",
   "execution_count": 10,
   "metadata": {},
   "outputs": [
    {
     "ename": "UndefVarError",
     "evalue": "UndefVarError: `_fsize` not defined",
     "output_type": "error",
     "traceback": [
      "UndefVarError: `_fsize` not defined\n",
      "\n",
      "Stacktrace:\n",
      "  [1] (::var\"#73#74\"{Vector{Float64}})(face::Face{2, 4, MMJMesh.Geometries.Box})\n",
      "    @ Main ~/Documents/HochschuleBO/04_Masterarbeit/finite-elemente-platten/plot.jl:29\n",
      "  [2] _samplefaces(mesh::MMJMesh.Meshes.Mesh{2, 2, MMJMesh.Geometries.GeometricObjectI, MMJMesh.Geometries.Box}, makef::var\"#73#74\"{Vector{Float64}}, nintervals::Int64, nmeshlines::Int64, zscale::Float64)\n",
      "    @ MMJMesh.Plots ~/.julia/packages/MMJMesh/EodsW/src/plots/helperfunctions.jl:84\n",
      "  [3] plotfacefunctions(plot::Plot{MMJMesh.Plots.mplot, Tuple{MMJMesh.Meshes.Mesh{2, 2, MMJMesh.Geometries.GeometricObjectI, MMJMesh.Geometries.Box}, var\"#73#74\"{Vector{Float64}}}})\n",
      "    @ MMJMesh.Plots ~/.julia/packages/MMJMesh/EodsW/src/plots/mplot.jl:371\n",
      "  [4] plot!(plot::Plot{MMJMesh.Plots.mplot, Tuple{MMJMesh.Meshes.Mesh{2, 2, MMJMesh.Geometries.GeometricObjectI, MMJMesh.Geometries.Box}, var\"#73#74\"{Vector{Float64}}}})\n",
      "    @ MMJMesh.Plots ~/.julia/packages/MMJMesh/EodsW/src/plots/mplot.jl:140\n",
      "  [5] connect_plot!(parent::Scene, plot::Plot{MMJMesh.Plots.mplot, Tuple{MMJMesh.Meshes.Mesh{2, 2, MMJMesh.Geometries.GeometricObjectI, MMJMesh.Geometries.Box}, var\"#73#74\"{Vector{Float64}}}})\n",
      "    @ Makie ~/.julia/packages/Makie/ND0gA/src/interfaces.jl:260\n",
      "  [6] plot!\n",
      "    @ Makie ~/.julia/packages/Makie/ND0gA/src/interfaces.jl:265 [inlined]\n",
      "  [7] plot!(ax::Axis3, plot::Plot{MMJMesh.Plots.mplot, Tuple{MMJMesh.Meshes.Mesh{2, 2, MMJMesh.Geometries.GeometricObjectI, MMJMesh.Geometries.Box}, var\"#73#74\"{Vector{Float64}}}})\n",
      "    @ Makie ~/.julia/packages/Makie/ND0gA/src/figureplotting.jl:316\n",
      "  [8] _create_plot!(::Function, ::Dict{Symbol, Any}, ::MMJMesh.Meshes.Mesh{2, 2, MMJMesh.Geometries.GeometricObjectI, MMJMesh.Geometries.Box}, ::Function)\n",
      "    @ Makie ~/.julia/packages/Makie/ND0gA/src/figureplotting.jl:284\n",
      "  [9] mplot!\n",
      "    @ MMJMesh.Plots ~/.julia/packages/MakieCore/UAwps/src/recipes.jl:176 [inlined]\n",
      " [10] plotw(m::MMJMesh.Meshes.Mesh{2, 2, MMJMesh.Geometries.GeometricObjectI, MMJMesh.Geometries.Box}, wHat::Vector{Float64}; zs::Float64, a3d::Bool, w::Int64, h::Int64, title::String, edgesvisible::Bool, nodesvisible::Bool, edgelinewidth::Int64, mesh::Int64, colorrange::MakieCore.Automatic, colormap::Observable{Any}, limits::Tuple{Nothing, Nothing, Tuple{Int64, Float64}})\n",
      "    @ Main ~/Documents/HochschuleBO/04_Masterarbeit/finite-elemente-platten/plot.jl:46\n",
      " [11] plotsol(params::Params, n::Int64)\n",
      "    @ Main ~/Documents/HochschuleBO/04_Masterarbeit/finite-elemente-platten/plot.jl:62\n",
      " [12] top-level scope\n",
      "    @ ~/Documents/HochschuleBO/04_Masterarbeit/finite-elemente-platten/plate.ipynb:1"
     ]
    }
   ],
   "source": [
    "plotsol(p,5)"
   ]
  },
  {
   "cell_type": "code",
   "execution_count": 12,
   "metadata": {},
   "outputs": [
    {
     "data": {
      "text/plain": [
       "#109 (generic function with 1 method)"
      ]
     },
     "metadata": {},
     "output_type": "display_data"
    }
   ],
   "source": [
    "m,wHat = plate(p,5)\n",
    "postprocessor(p, wHat)"
   ]
  },
  {
   "cell_type": "code",
   "execution_count": 18,
   "metadata": {},
   "outputs": [
    {
     "ename": "KeyError",
     "evalue": "KeyError: key :plots not found",
     "output_type": "error",
     "traceback": [
      "KeyError: key :plots not found\n",
      "\n",
      "Stacktrace:\n",
      " [1] getindex\n",
      "   @ ./dict.jl:498 [inlined]\n",
      " [2] getproperty\n",
      "   @ ~/.julia/packages/VarStructs/LYjXZ/src/create.jl:48 [inlined]\n",
      " [3] valuerange(p::Params)\n",
      "   @ Main ~/Documents/HochschuleBO/04_Masterarbeit/finite-elemente-platten/plate.ipynb:2\n",
      " [4] top-level scope\n",
      "   @ ~/Documents/HochschuleBO/04_Masterarbeit/finite-elemente-platten/plate.ipynb:6"
     ]
    }
   ],
   "source": [
    "function valuerange(p)\n",
    "    values = p.plots[1].kw[:color]\n",
    "    min, max = extrema(values)\n",
    "    return min, max\n",
    "end\n",
    "valuerange(p)"
   ]
  },
  {
   "cell_type": "code",
   "execution_count": 14,
   "metadata": {},
   "outputs": [],
   "source": [
    "function maketitle(p, title)\n",
    "    min, max = string.(round.(valuerange(p), digits=2))\n",
    "    return title * \" | min: \" * min * \" | max: \" * max\n",
    "end\n",
    "\n",
    "function plotr(m, result, title, cr, npoints=15; nodal=false, a3d)\n",
    "    fig = Figure(size=(1200, 800))\n",
    "    if a3d\n",
    "        ax = Axis3(fig[1, 1])\n",
    "        zscale = 1\n",
    "    else\n",
    "        ax = Axis(fig[1, 1], aspect=DataAspect())\n",
    "        zscale = 0\n",
    "    end\n",
    "\n",
    "    warpnodes=nothing\n",
    "\n",
    "    if nodal\n",
    "        r = nodalresult(m, result)\n",
    "        if a3d\n",
    "          warpnodes=r\n",
    "        end\n",
    "    else\n",
    "        r = result\n",
    "    end\n",
    "\n",
    "    p = mplot!(\n",
    "        m, r, edgesvisible=a3d,\n",
    "        nodewarp=warpnodes,\n",
    "        faceplotzscale=zscale, faceplotnpoints=npoints,\n",
    "        colorrange=cr\n",
    "    )\n",
    "\n",
    "    if !a3d\n",
    "        mplot!(m, edgesvisible=false, facesvisible=false)\n",
    "    end\n",
    "\n",
    "    Colorbar(fig[1, 2], p)\n",
    "    hidespines!(ax)\n",
    "    hidedecorations!(ax)\n",
    "    ax.title = maketitle(p, title)\n",
    "\n",
    "    return fig\n",
    "end;"
   ]
  },
  {
   "cell_type": "code",
   "execution_count": 16,
   "metadata": {},
   "outputs": [
    {
     "ename": "UndefVarError",
     "evalue": "UndefVarError: `valuerange` not defined",
     "output_type": "error",
     "traceback": [
      "UndefVarError: `valuerange` not defined\n",
      "\n",
      "Stacktrace:\n",
      " [1] maketitle(p::Params, title::String)\n",
      "   @ Main ~/Documents/HochschuleBO/04_Masterarbeit/finite-elemente-platten/plate.ipynb:2\n",
      " [2] top-level scope\n",
      "   @ ~/Documents/HochschuleBO/04_Masterarbeit/finite-elemente-platten/plate.ipynb:1"
     ]
    }
   ],
   "source": [
    "maketitle(p,\"title\")"
   ]
  },
  {
   "cell_type": "code",
   "execution_count": 15,
   "metadata": {},
   "outputs": [
    {
     "ename": "KeyError",
     "evalue": "KeyError: key :post not found",
     "output_type": "error",
     "traceback": [
      "KeyError: key :post not found\n",
      "\n",
      "Stacktrace:\n",
      "  [1] getindex\n",
      "    @ ./dict.jl:498 [inlined]\n",
      "  [2] getindex(d::MMJMesh.Meshes.MeshData{MMJMesh.Meshes.Mesh{2, 2, MMJMesh.Geometries.GeometricObjectI, MMJMesh.Geometries.Box}}, name::Symbol, params::Face{2, 4, MMJMesh.Geometries.Box})\n",
      "    @ MMJMesh.Meshes ~/.julia/packages/MMJMesh/EodsW/src/meshes/data.jl:27\n",
      "  [3] getindex(ed::MMJMesh.Meshes.EntityData{Face}, name::Symbol)\n",
      "    @ MMJMesh.Meshes ~/.julia/packages/MMJMesh/EodsW/src/meshes/entitydata.jl:5\n",
      "  [4] (::MMJMesh.Plots.var\"#facefunction#35\"{Symbol})(face::Face{2, 4, MMJMesh.Geometries.Box})\n",
      "    @ MMJMesh.Plots ~/.julia/packages/MMJMesh/EodsW/src/plots/mplot.jl:365\n",
      "  [5] _samplefaces(mesh::MMJMesh.Meshes.Mesh{2, 2, MMJMesh.Geometries.GeometricObjectI, MMJMesh.Geometries.Box}, makef::MMJMesh.Plots.var\"#facefunction#35\"{Symbol}, nintervals::Int64, nmeshlines::Int64, zscale::Int64)\n",
      "    @ MMJMesh.Plots ~/.julia/packages/MMJMesh/EodsW/src/plots/helperfunctions.jl:84\n",
      "  [6] plotfacefunctions(plot::Plot{MMJMesh.Plots.mplot, Tuple{MMJMesh.Meshes.Mesh{2, 2, MMJMesh.Geometries.GeometricObjectI, MMJMesh.Geometries.Box}, Symbol}})\n",
      "    @ MMJMesh.Plots ~/.julia/packages/MMJMesh/EodsW/src/plots/mplot.jl:371\n",
      "  [7] plot!(plot::Plot{MMJMesh.Plots.mplot, Tuple{MMJMesh.Meshes.Mesh{2, 2, MMJMesh.Geometries.GeometricObjectI, MMJMesh.Geometries.Box}, Symbol}})\n",
      "    @ MMJMesh.Plots ~/.julia/packages/MMJMesh/EodsW/src/plots/mplot.jl:140\n",
      "  [8] connect_plot!(parent::Scene, plot::Plot{MMJMesh.Plots.mplot, Tuple{MMJMesh.Meshes.Mesh{2, 2, MMJMesh.Geometries.GeometricObjectI, MMJMesh.Geometries.Box}, Symbol}})\n",
      "    @ Makie ~/.julia/packages/Makie/ND0gA/src/interfaces.jl:260\n",
      "  [9] plot!\n",
      "    @ Makie ~/.julia/packages/Makie/ND0gA/src/interfaces.jl:265 [inlined]\n",
      " [10] plot!(ax::Axis, plot::Plot{MMJMesh.Plots.mplot, Tuple{MMJMesh.Meshes.Mesh{2, 2, MMJMesh.Geometries.GeometricObjectI, MMJMesh.Geometries.Box}, Symbol}})\n",
      "    @ Makie ~/.julia/packages/Makie/ND0gA/src/figureplotting.jl:316\n",
      " [11] _create_plot!(::Function, ::Dict{Symbol, Any}, ::MMJMesh.Meshes.Mesh{2, 2, MMJMesh.Geometries.GeometricObjectI, MMJMesh.Geometries.Box}, ::Symbol)\n",
      "    @ Makie ~/.julia/packages/Makie/ND0gA/src/figureplotting.jl:284\n",
      " [12] mplot!(::MMJMesh.Meshes.Mesh{2, 2, MMJMesh.Geometries.GeometricObjectI, MMJMesh.Geometries.Box}, ::Vararg{Any}; kw::@Kwargs{edgesvisible::Bool, nodewarp::Nothing, faceplotzscale::Int64, faceplotnpoints::Int64, colorrange::Tuple{Int64, Int64}})\n",
      "    @ MMJMesh.Plots ~/.julia/packages/MakieCore/UAwps/src/recipes.jl:176\n",
      " [13] plotr(m::MMJMesh.Meshes.Mesh{2, 2, MMJMesh.Geometries.GeometricObjectI, MMJMesh.Geometries.Box}, result::Symbol, title::String, cr::Tuple{Int64, Int64}, npoints::Int64; nodal::Bool, a3d::Bool)\n",
      "    @ Main ~/Documents/HochschuleBO/04_Masterarbeit/finite-elemente-platten/plate.ipynb:27\n",
      " [14] plotr\n",
      "    @ Main ~/Documents/HochschuleBO/04_Masterarbeit/finite-elemente-platten/plate.ipynb:6 [inlined]\n",
      " [15] top-level scope\n",
      "    @ ~/Documents/HochschuleBO/04_Masterarbeit/finite-elemente-platten/plate.ipynb:1"
     ]
    }
   ],
   "source": [
    "plotr(m, :mx, \"Biegemoment mx\", (-17, 17), a3d=false)"
   ]
  }
 ],
 "metadata": {
  "kernelspec": {
   "display_name": "Julia 1.10.0",
   "language": "julia",
   "name": "julia-1.10"
  },
  "language_info": {
   "file_extension": ".jl",
   "mimetype": "application/julia",
   "name": "julia",
   "version": "1.10.0"
  }
 },
 "nbformat": 4,
 "nbformat_minor": 2
}
