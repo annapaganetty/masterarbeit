{
 "cells": [
  {
   "cell_type": "code",
   "execution_count": 2,
   "metadata": {},
   "outputs": [],
   "source": [
    "import Pkg\n",
    "\n",
    "#Pkg.add(url=\"https://github.com/matthiasbaitsch/mmjmesh.git\");\n",
    "\n",
    "using IntervalSets\n",
    "using MMJMesh.Plots\n",
    "using MMJMesh.Meshes\n",
    "using MMJMesh.Utilities\n",
    "using MMJMesh.Mathematics\n",
    "using LinearAlgebra\n",
    "using Symbolics\n",
    "using DomainSets\n",
    "using CairoMakie\n",
    "\n",
    "using GLMakie\n",
    "using WGLMakie\n",
    "WGLMakie.activate!()\n",
    "CairoMakie.activate!()"
   ]
  },
  {
   "cell_type": "markdown",
   "metadata": {},
   "source": [
    "Definition Variablen"
   ]
  },
  {
   "cell_type": "code",
   "execution_count": 3,
   "metadata": {},
   "outputs": [],
   "source": [
    "@variables  a,b, h, ν,E ,p;"
   ]
  },
  {
   "cell_type": "markdown",
   "metadata": {},
   "source": [
    "Einheitsmatrix"
   ]
  },
  {
   "cell_type": "code",
   "execution_count": 4,
   "metadata": {},
   "outputs": [],
   "source": [
    "I12 = Matrix{Int}(I, 12, 12);"
   ]
  },
  {
   "cell_type": "code",
   "execution_count": 5,
   "metadata": {},
   "outputs": [
    {
     "data": {
      "text/plain": [
       "12-element Vector{AbstractMapping{StaticArraysCore.SVector{2, <:Real}, Float64}}:\n",
       " -2 / ((a^3)*b)x₁³x₂+-2 / (a*(b^3))x₁x₂³+2 / (a^3)x₁³+3 / ((a^2)*b)x₁²x₂+3 / (a*(b^2))x₁x₂²+2 / (b^3)x₂³+-3 / (a^2)x₁²+-1 / (a*b)x₁x₂+-3 / (b^2)x₂²+1\n",
       " -1 / ((a^2)*b)x₁³x₂+1 / (a^2)x₁³+2 / (a*b)x₁²x₂+-2 / ax₁²+-1 / bx₁x₂+1x₁\n",
       " -1 / (a*(b^2))x₁x₂³+2 / (a*b)x₁x₂²+1 / (b^2)x₂³+-1 / ax₁x₂+-2 / bx₂²+1x₂\n",
       " 2 / ((a^3)*b)x₁³x₂+2 / (a*(b^3))x₁x₂³+-2 / (a^3)x₁³+-3 / ((a^2)*b)x₁²x₂+-3 / (a*(b^2))x₁x₂²+3 / (a^2)x₁²+1 / (a*b)x₁x₂\n",
       " -1 / ((a^2)*b)x₁³x₂+1 / (a^2)x₁³+1 / (a*b)x₁²x₂+-1 / ax₁²\n",
       " 1 / (a*(b^2))x₁x₂³+-2 / (a*b)x₁x₂²+1 / ax₁x₂\n",
       " -2 / ((a^3)*b)x₁³x₂+-2 / (a*(b^3))x₁x₂³+3 / ((a^2)*b)x₁²x₂+3 / (a*(b^2))x₁x₂²+-1 / (a*b)x₁x₂\n",
       " 1 / ((a^2)*b)x₁³x₂+-1 / (a*b)x₁²x₂\n",
       " 1 / (a*(b^2))x₁x₂³+-1 / (a*b)x₁x₂²\n",
       " 2 / ((a^3)*b)x₁³x₂+2 / (a*(b^3))x₁x₂³+-3 / ((a^2)*b)x₁²x₂+-3 / (a*(b^2))x₁x₂²+-2 / (b^3)x₂³+1 / (a*b)x₁x₂+3 / (b^2)x₂²\n",
       " 1 / ((a^2)*b)x₁³x₂+-2 / (a*b)x₁²x₂+1 / bx₁x₂\n",
       " -1 / (a*(b^2))x₁x₂³+1 / (a*b)x₁x₂²+1 / (b^2)x₂³+-1 / bx₂²"
      ]
     },
     "metadata": {},
     "output_type": "display_data"
    }
   ],
   "source": [
    "V = [ 0 a a 0; 0 0 b b]\n",
    "\n",
    "P = mmonomials(2, 3, QHat , (p1, p2) -> p1 + p2 <= 4 && p1 * p2 <4,type = Int)\n",
    "N = vcat(\n",
    "    [\n",
    "        [\n",
    "            ValueAtLF(p),\n",
    "            PDerivativeAtLF(p, [1, 0]),\n",
    "            PDerivativeAtLF(p, [0, 1])\n",
    "        ]\n",
    "        for p in eachcol(V)\n",
    "    ]...\n",
    ")\n",
    "M = [n(p) for p in P, n in N]\n",
    "Minv = simplify.(M \\ I12)\n",
    "H4 = Minv*P\n",
    "#fplot3d(H4)"
   ]
  },
  {
   "cell_type": "code",
   "execution_count": 6,
   "metadata": {},
   "outputs": [],
   "source": [
    "L = [1 ν 0; ν 1 0; 0 0 (1-ν)/2];"
   ]
  },
  {
   "cell_type": "code",
   "execution_count": 7,
   "metadata": {},
   "outputs": [
    {
     "data": {
      "text/latex": [
       "$$ \\begin{equation}\n",
       "\\left[\n",
       "\\begin{array}{cccccccccccc}\n",
       "\\frac{h^{3} E \\left( 20 a^{4} + 14 b^{2} a^{2} + 20 b^{4} - 4 b^{2} a^{2} \\nu \\right)}{60 b^{3} a^{3} \\left( 1 - \\nu^{2} \\right)} & \\frac{h^{3} E \\left( a^{2} + 10 b^{2} + 4 a^{2} \\nu \\right)}{60 a^{2} b \\left( 1 - \\nu^{2} \\right)} & \\frac{h^{3} E \\left( 10 a^{2} + b^{2} + 4 b^{2} \\nu \\right)}{60 b^{2} a \\left( 1 - \\nu^{2} \\right)} & \\frac{h^{3} E \\left( 10 a^{4} - 14 b^{2} a^{2} - 20 b^{4} + 4 b^{2} a^{2} \\nu \\right)}{60 b^{3} a^{3} \\left( 1 - \\nu^{2} \\right)} & \\frac{h^{3} E \\left( a^{2} + 10 b^{2} - a^{2} \\nu \\right)}{60 a^{2} b \\left( 1 - \\nu^{2} \\right)} & \\frac{h^{3} E \\left( 5 a^{2} - b^{2} - 4 b^{2} \\nu \\right)}{60 b^{2} a \\left( 1 - \\nu^{2} \\right)} & \\frac{h^{3} E \\left(  - 10 a^{4} + 14 b^{2} a^{2} - 10 b^{4} - 4 b^{2} a^{2} \\nu \\right)}{60 b^{3} a^{3} \\left( 1 - \\nu^{2} \\right)} & \\frac{h^{3} E \\left(  - a^{2} + 5 b^{2} + a^{2} \\nu \\right)}{60 a^{2} b \\left( 1 - \\nu^{2} \\right)} & \\frac{h^{3} E \\left( 5 a^{2} - b^{2} + b^{2} \\nu \\right)}{60 b^{2} a \\left( 1 - \\nu^{2} \\right)} & \\frac{h^{3} E \\left(  - 20 a^{4} - 14 b^{2} a^{2} + 10 b^{4} + 4 b^{2} a^{2} \\nu \\right)}{60 b^{3} a^{3} \\left( 1 - \\nu^{2} \\right)} & \\frac{h^{3} E \\left(  - a^{2} + 5 b^{2} - 4 a^{2} \\nu \\right)}{60 a^{2} b \\left( 1 - \\nu^{2} \\right)} & \\frac{h^{3} E \\left( 10 a^{2} + b^{2} - b^{2} \\nu \\right)}{60 b^{2} a \\left( 1 - \\nu^{2} \\right)} \\\\\n",
       "\\frac{h^{3} E \\left( a^{2} + 10 b^{2} + 4 a^{2} \\nu \\right)}{60 a^{2} b \\left( 1 - \\nu^{2} \\right)} & \\frac{h^{3} E \\left( 4 a^{2} + 20 b^{2} - 4 a^{2} \\nu \\right)}{180 a b \\left( 1 - \\nu^{2} \\right)} & \\frac{h^{3} E \\nu}{12 \\left( 1 - \\nu^{2} \\right)} & \\frac{h^{3} E \\left(  - a^{2} - 10 b^{2} + a^{2} \\nu \\right)}{60 a^{2} b \\left( 1 - \\nu^{2} \\right)} & \\frac{h^{3} E \\left(  - a^{2} + 10 b^{2} + a^{2} \\nu \\right)}{180 a b \\left( 1 - \\nu^{2} \\right)} & 0 & \\frac{h^{3} E \\left( a^{2} - 5 b^{2} - a^{2} \\nu \\right)}{60 a^{2} b \\left( 1 - \\nu^{2} \\right)} & \\frac{h^{3} E \\left( a^{2} + 5 b^{2} - a^{2} \\nu \\right)}{180 a b \\left( 1 - \\nu^{2} \\right)} & 0 & \\frac{h^{3} E \\left(  - a^{2} + 5 b^{2} - 4 a^{2} \\nu \\right)}{60 a^{2} b \\left( 1 - \\nu^{2} \\right)} & \\frac{h^{3} E \\left(  - 4 a^{2} + 10 b^{2} + 4 a^{2} \\nu \\right)}{180 a b \\left( 1 - \\nu^{2} \\right)} & 0 \\\\\n",
       "\\frac{h^{3} E \\left( 10 a^{2} + b^{2} + 4 b^{2} \\nu \\right)}{60 b^{2} a \\left( 1 - \\nu^{2} \\right)} & \\frac{h^{3} E \\nu}{12 \\left( 1 - \\nu^{2} \\right)} & \\frac{h^{3} E \\left( 20 a^{2} + 4 b^{2} - 4 b^{2} \\nu \\right)}{180 a b \\left( 1 - \\nu^{2} \\right)} & \\frac{h^{3} E \\left( 5 a^{2} - b^{2} - 4 b^{2} \\nu \\right)}{60 b^{2} a \\left( 1 - \\nu^{2} \\right)} & 0 & \\frac{h^{3} E \\left( 10 a^{2} - 4 b^{2} + 4 b^{2} \\nu \\right)}{180 a b \\left( 1 - \\nu^{2} \\right)} & \\frac{h^{3} E \\left(  - 5 a^{2} + b^{2} - b^{2} \\nu \\right)}{60 b^{2} a \\left( 1 - \\nu^{2} \\right)} & 0 & \\frac{h^{3} E \\left( 5 a^{2} + b^{2} - b^{2} \\nu \\right)}{180 a b \\left( 1 - \\nu^{2} \\right)} & \\frac{h^{3} E \\left(  - 10 a^{2} - b^{2} + b^{2} \\nu \\right)}{60 b^{2} a \\left( 1 - \\nu^{2} \\right)} & 0 & \\frac{h^{3} E \\left( 10 a^{2} - b^{2} + b^{2} \\nu \\right)}{180 a b \\left( 1 - \\nu^{2} \\right)} \\\\\n",
       "\\frac{h^{3} E \\left( 10 a^{4} - 14 b^{2} a^{2} - 20 b^{4} + 4 b^{2} a^{2} \\nu \\right)}{60 b^{3} a^{3} \\left( 1 - \\nu^{2} \\right)} & \\frac{h^{3} E \\left(  - a^{2} - 10 b^{2} + a^{2} \\nu \\right)}{60 a^{2} b \\left( 1 - \\nu^{2} \\right)} & \\frac{h^{3} E \\left( 5 a^{2} - b^{2} - 4 b^{2} \\nu \\right)}{60 b^{2} a \\left( 1 - \\nu^{2} \\right)} & \\frac{h^{3} E \\left( 20 a^{4} + 14 b^{2} a^{2} + 20 b^{4} - 4 b^{2} a^{2} \\nu \\right)}{60 b^{3} a^{3} \\left( 1 - \\nu^{2} \\right)} & \\frac{h^{3} E \\left(  - a^{2} - 10 b^{2} - 4 a^{2} \\nu \\right)}{60 a^{2} b \\left( 1 - \\nu^{2} \\right)} & \\frac{h^{3} E \\left( 10 a^{2} + b^{2} + 4 b^{2} \\nu \\right)}{60 b^{2} a \\left( 1 - \\nu^{2} \\right)} & \\frac{h^{3} E \\left(  - 20 a^{4} - 14 b^{2} a^{2} + 10 b^{4} + 4 b^{2} a^{2} \\nu \\right)}{60 b^{3} a^{3} \\left( 1 - \\nu^{2} \\right)} & \\frac{h^{3} E \\left( a^{2} - 5 b^{2} + 4 a^{2} \\nu \\right)}{60 a^{2} b \\left( 1 - \\nu^{2} \\right)} & \\frac{h^{3} E \\left( 10 a^{2} + b^{2} - b^{2} \\nu \\right)}{60 b^{2} a \\left( 1 - \\nu^{2} \\right)} & \\frac{h^{3} E \\left(  - 10 a^{4} + 14 b^{2} a^{2} - 10 b^{4} - 4 b^{2} a^{2} \\nu \\right)}{60 b^{3} a^{3} \\left( 1 - \\nu^{2} \\right)} & \\frac{h^{3} E \\left( a^{2} - 5 b^{2} - a^{2} \\nu \\right)}{60 a^{2} b \\left( 1 - \\nu^{2} \\right)} & \\frac{h^{3} E \\left( 5 a^{2} - b^{2} + b^{2} \\nu \\right)}{60 b^{2} a \\left( 1 - \\nu^{2} \\right)} \\\\\n",
       "\\frac{h^{3} E \\left( a^{2} + 10 b^{2} - a^{2} \\nu \\right)}{60 a^{2} b \\left( 1 - \\nu^{2} \\right)} & \\frac{h^{3} E \\left(  - a^{2} + 10 b^{2} + a^{2} \\nu \\right)}{180 a b \\left( 1 - \\nu^{2} \\right)} & 0 & \\frac{h^{3} E \\left(  - a^{2} - 10 b^{2} - 4 a^{2} \\nu \\right)}{60 a^{2} b \\left( 1 - \\nu^{2} \\right)} & \\frac{h^{3} E \\left( 4 a^{2} + 20 b^{2} - 4 a^{2} \\nu \\right)}{180 a b \\left( 1 - \\nu^{2} \\right)} & \\frac{ - h^{3} E \\nu}{12 \\left( 1 - \\nu^{2} \\right)} & \\frac{h^{3} E \\left( a^{2} - 5 b^{2} + 4 a^{2} \\nu \\right)}{60 a^{2} b \\left( 1 - \\nu^{2} \\right)} & \\frac{h^{3} E \\left(  - 4 a^{2} + 10 b^{2} + 4 a^{2} \\nu \\right)}{180 a b \\left( 1 - \\nu^{2} \\right)} & 0 & \\frac{h^{3} E \\left(  - a^{2} + 5 b^{2} + a^{2} \\nu \\right)}{60 a^{2} b \\left( 1 - \\nu^{2} \\right)} & \\frac{h^{3} E \\left( a^{2} + 5 b^{2} - a^{2} \\nu \\right)}{180 a b \\left( 1 - \\nu^{2} \\right)} & 0 \\\\\n",
       "\\frac{h^{3} E \\left( 5 a^{2} - b^{2} - 4 b^{2} \\nu \\right)}{60 b^{2} a \\left( 1 - \\nu^{2} \\right)} & 0 & \\frac{h^{3} E \\left( 10 a^{2} - 4 b^{2} + 4 b^{2} \\nu \\right)}{180 a b \\left( 1 - \\nu^{2} \\right)} & \\frac{h^{3} E \\left( 10 a^{2} + b^{2} + 4 b^{2} \\nu \\right)}{60 b^{2} a \\left( 1 - \\nu^{2} \\right)} & \\frac{ - h^{3} E \\nu}{12 \\left( 1 - \\nu^{2} \\right)} & \\frac{h^{3} E \\left( 20 a^{2} + 4 b^{2} - 4 b^{2} \\nu \\right)}{180 a b \\left( 1 - \\nu^{2} \\right)} & \\frac{h^{3} E \\left(  - 10 a^{2} - b^{2} + b^{2} \\nu \\right)}{60 b^{2} a \\left( 1 - \\nu^{2} \\right)} & 0 & \\frac{h^{3} E \\left( 10 a^{2} - b^{2} + b^{2} \\nu \\right)}{180 a b \\left( 1 - \\nu^{2} \\right)} & \\frac{h^{3} E \\left(  - 5 a^{2} + b^{2} - b^{2} \\nu \\right)}{60 b^{2} a \\left( 1 - \\nu^{2} \\right)} & 0 & \\frac{h^{3} E \\left( 5 a^{2} + b^{2} - b^{2} \\nu \\right)}{180 a b \\left( 1 - \\nu^{2} \\right)} \\\\\n",
       "\\frac{h^{3} E \\left(  - 10 a^{4} + 14 b^{2} a^{2} - 10 b^{4} - 4 b^{2} a^{2} \\nu \\right)}{60 b^{3} a^{3} \\left( 1 - \\nu^{2} \\right)} & \\frac{h^{3} E \\left( a^{2} - 5 b^{2} - a^{2} \\nu \\right)}{60 a^{2} b \\left( 1 - \\nu^{2} \\right)} & \\frac{h^{3} E \\left(  - 5 a^{2} + b^{2} - b^{2} \\nu \\right)}{60 b^{2} a \\left( 1 - \\nu^{2} \\right)} & \\frac{h^{3} E \\left(  - 20 a^{4} - 14 b^{2} a^{2} + 10 b^{4} + 4 b^{2} a^{2} \\nu \\right)}{60 b^{3} a^{3} \\left( 1 - \\nu^{2} \\right)} & \\frac{h^{3} E \\left( a^{2} - 5 b^{2} + 4 a^{2} \\nu \\right)}{60 a^{2} b \\left( 1 - \\nu^{2} \\right)} & \\frac{h^{3} E \\left(  - 10 a^{2} - b^{2} + b^{2} \\nu \\right)}{60 b^{2} a \\left( 1 - \\nu^{2} \\right)} & \\frac{h^{3} E \\left( 20 a^{4} + 14 b^{2} a^{2} + 20 b^{4} - 4 b^{2} a^{2} \\nu \\right)}{60 b^{3} a^{3} \\left( 1 - \\nu^{2} \\right)} & \\frac{h^{3} E \\left(  - a^{2} - 10 b^{2} - 4 a^{2} \\nu \\right)}{60 a^{2} b \\left( 1 - \\nu^{2} \\right)} & \\frac{h^{3} E \\left(  - 10 a^{2} - b^{2} - 4 b^{2} \\nu \\right)}{60 b^{2} a \\left( 1 - \\nu^{2} \\right)} & \\frac{h^{3} E \\left( 10 a^{4} - 14 b^{2} a^{2} - 20 b^{4} + 4 b^{2} a^{2} \\nu \\right)}{60 b^{3} a^{3} \\left( 1 - \\nu^{2} \\right)} & \\frac{h^{3} E \\left(  - a^{2} - 10 b^{2} + a^{2} \\nu \\right)}{60 a^{2} b \\left( 1 - \\nu^{2} \\right)} & \\frac{h^{3} E \\left(  - 5 a^{2} + b^{2} + 4 b^{2} \\nu \\right)}{60 b^{2} a \\left( 1 - \\nu^{2} \\right)} \\\\\n",
       "\\frac{h^{3} E \\left(  - a^{2} + 5 b^{2} + a^{2} \\nu \\right)}{60 a^{2} b \\left( 1 - \\nu^{2} \\right)} & \\frac{h^{3} E \\left( a^{2} + 5 b^{2} - a^{2} \\nu \\right)}{180 a b \\left( 1 - \\nu^{2} \\right)} & 0 & \\frac{h^{3} E \\left( a^{2} - 5 b^{2} + 4 a^{2} \\nu \\right)}{60 a^{2} b \\left( 1 - \\nu^{2} \\right)} & \\frac{h^{3} E \\left(  - 4 a^{2} + 10 b^{2} + 4 a^{2} \\nu \\right)}{180 a b \\left( 1 - \\nu^{2} \\right)} & 0 & \\frac{h^{3} E \\left(  - a^{2} - 10 b^{2} - 4 a^{2} \\nu \\right)}{60 a^{2} b \\left( 1 - \\nu^{2} \\right)} & \\frac{h^{3} E \\left( 4 a^{2} + 20 b^{2} - 4 a^{2} \\nu \\right)}{180 a b \\left( 1 - \\nu^{2} \\right)} & \\frac{h^{3} E \\nu}{12 \\left( 1 - \\nu^{2} \\right)} & \\frac{h^{3} E \\left( a^{2} + 10 b^{2} - a^{2} \\nu \\right)}{60 a^{2} b \\left( 1 - \\nu^{2} \\right)} & \\frac{h^{3} E \\left(  - a^{2} + 10 b^{2} + a^{2} \\nu \\right)}{180 a b \\left( 1 - \\nu^{2} \\right)} & 0 \\\\\n",
       "\\frac{h^{3} E \\left( 5 a^{2} - b^{2} + b^{2} \\nu \\right)}{60 b^{2} a \\left( 1 - \\nu^{2} \\right)} & 0 & \\frac{h^{3} E \\left( 5 a^{2} + b^{2} - b^{2} \\nu \\right)}{180 a b \\left( 1 - \\nu^{2} \\right)} & \\frac{h^{3} E \\left( 10 a^{2} + b^{2} - b^{2} \\nu \\right)}{60 b^{2} a \\left( 1 - \\nu^{2} \\right)} & 0 & \\frac{h^{3} E \\left( 10 a^{2} - b^{2} + b^{2} \\nu \\right)}{180 a b \\left( 1 - \\nu^{2} \\right)} & \\frac{h^{3} E \\left(  - 10 a^{2} - b^{2} - 4 b^{2} \\nu \\right)}{60 b^{2} a \\left( 1 - \\nu^{2} \\right)} & \\frac{h^{3} E \\nu}{12 \\left( 1 - \\nu^{2} \\right)} & \\frac{h^{3} E \\left( 20 a^{2} + 4 b^{2} - 4 b^{2} \\nu \\right)}{180 a b \\left( 1 - \\nu^{2} \\right)} & \\frac{h^{3} E \\left(  - 5 a^{2} + b^{2} + 4 b^{2} \\nu \\right)}{60 b^{2} a \\left( 1 - \\nu^{2} \\right)} & 0 & \\frac{h^{3} E \\left( 10 a^{2} - 4 b^{2} + 4 b^{2} \\nu \\right)}{180 a b \\left( 1 - \\nu^{2} \\right)} \\\\\n",
       "\\frac{h^{3} E \\left(  - 20 a^{4} - 14 b^{2} a^{2} + 10 b^{4} + 4 b^{2} a^{2} \\nu \\right)}{60 b^{3} a^{3} \\left( 1 - \\nu^{2} \\right)} & \\frac{h^{3} E \\left(  - a^{2} + 5 b^{2} - 4 a^{2} \\nu \\right)}{60 a^{2} b \\left( 1 - \\nu^{2} \\right)} & \\frac{h^{3} E \\left(  - 10 a^{2} - b^{2} + b^{2} \\nu \\right)}{60 b^{2} a \\left( 1 - \\nu^{2} \\right)} & \\frac{h^{3} E \\left(  - 10 a^{4} + 14 b^{2} a^{2} - 10 b^{4} - 4 b^{2} a^{2} \\nu \\right)}{60 b^{3} a^{3} \\left( 1 - \\nu^{2} \\right)} & \\frac{h^{3} E \\left(  - a^{2} + 5 b^{2} + a^{2} \\nu \\right)}{60 a^{2} b \\left( 1 - \\nu^{2} \\right)} & \\frac{h^{3} E \\left(  - 5 a^{2} + b^{2} - b^{2} \\nu \\right)}{60 b^{2} a \\left( 1 - \\nu^{2} \\right)} & \\frac{h^{3} E \\left( 10 a^{4} - 14 b^{2} a^{2} - 20 b^{4} + 4 b^{2} a^{2} \\nu \\right)}{60 b^{3} a^{3} \\left( 1 - \\nu^{2} \\right)} & \\frac{h^{3} E \\left( a^{2} + 10 b^{2} - a^{2} \\nu \\right)}{60 a^{2} b \\left( 1 - \\nu^{2} \\right)} & \\frac{h^{3} E \\left(  - 5 a^{2} + b^{2} + 4 b^{2} \\nu \\right)}{60 b^{2} a \\left( 1 - \\nu^{2} \\right)} & \\frac{h^{3} E \\left( 20 a^{4} + 14 b^{2} a^{2} + 20 b^{4} - 4 b^{2} a^{2} \\nu \\right)}{60 b^{3} a^{3} \\left( 1 - \\nu^{2} \\right)} & \\frac{h^{3} E \\left( a^{2} + 10 b^{2} + 4 a^{2} \\nu \\right)}{60 a^{2} b \\left( 1 - \\nu^{2} \\right)} & \\frac{h^{3} E \\left(  - 10 a^{2} - b^{2} - 4 b^{2} \\nu \\right)}{60 b^{2} a \\left( 1 - \\nu^{2} \\right)} \\\\\n",
       "\\frac{h^{3} E \\left(  - a^{2} + 5 b^{2} - 4 a^{2} \\nu \\right)}{60 a^{2} b \\left( 1 - \\nu^{2} \\right)} & \\frac{h^{3} E \\left(  - 4 a^{2} + 10 b^{2} + 4 a^{2} \\nu \\right)}{180 a b \\left( 1 - \\nu^{2} \\right)} & 0 & \\frac{h^{3} E \\left( a^{2} - 5 b^{2} - a^{2} \\nu \\right)}{60 a^{2} b \\left( 1 - \\nu^{2} \\right)} & \\frac{h^{3} E \\left( a^{2} + 5 b^{2} - a^{2} \\nu \\right)}{180 a b \\left( 1 - \\nu^{2} \\right)} & 0 & \\frac{h^{3} E \\left(  - a^{2} - 10 b^{2} + a^{2} \\nu \\right)}{60 a^{2} b \\left( 1 - \\nu^{2} \\right)} & \\frac{h^{3} E \\left(  - a^{2} + 10 b^{2} + a^{2} \\nu \\right)}{180 a b \\left( 1 - \\nu^{2} \\right)} & 0 & \\frac{h^{3} E \\left( a^{2} + 10 b^{2} + 4 a^{2} \\nu \\right)}{60 a^{2} b \\left( 1 - \\nu^{2} \\right)} & \\frac{h^{3} E \\left( 4 a^{2} + 20 b^{2} - 4 a^{2} \\nu \\right)}{180 a b \\left( 1 - \\nu^{2} \\right)} & \\frac{ - h^{3} E \\nu}{12 \\left( 1 - \\nu^{2} \\right)} \\\\\n",
       "\\frac{h^{3} E \\left( 10 a^{2} + b^{2} - b^{2} \\nu \\right)}{60 b^{2} a \\left( 1 - \\nu^{2} \\right)} & 0 & \\frac{h^{3} E \\left( 10 a^{2} - b^{2} + b^{2} \\nu \\right)}{180 a b \\left( 1 - \\nu^{2} \\right)} & \\frac{h^{3} E \\left( 5 a^{2} - b^{2} + b^{2} \\nu \\right)}{60 b^{2} a \\left( 1 - \\nu^{2} \\right)} & 0 & \\frac{h^{3} E \\left( 5 a^{2} + b^{2} - b^{2} \\nu \\right)}{180 a b \\left( 1 - \\nu^{2} \\right)} & \\frac{h^{3} E \\left(  - 5 a^{2} + b^{2} + 4 b^{2} \\nu \\right)}{60 b^{2} a \\left( 1 - \\nu^{2} \\right)} & 0 & \\frac{h^{3} E \\left( 10 a^{2} - 4 b^{2} + 4 b^{2} \\nu \\right)}{180 a b \\left( 1 - \\nu^{2} \\right)} & \\frac{h^{3} E \\left(  - 10 a^{2} - b^{2} - 4 b^{2} \\nu \\right)}{60 b^{2} a \\left( 1 - \\nu^{2} \\right)} & \\frac{ - h^{3} E \\nu}{12 \\left( 1 - \\nu^{2} \\right)} & \\frac{h^{3} E \\left( 20 a^{2} + 4 b^{2} - 4 b^{2} \\nu \\right)}{180 a b \\left( 1 - \\nu^{2} \\right)} \\\\\n",
       "\\end{array}\n",
       "\\right]\n",
       "\\end{equation}\n",
       " $$"
      ],
      "text/plain": [
       "12×12 Matrix{Num}:\n",
       " (E*(20(a^4) + 14(a^2)*(b^2) + 20(b^4) - 4(a^2)*(b^2)*ν)*(h^3)) / (60(a^3)*(b^3)*(1 - (ν^2)))   …   (E*(10(a^2) + b^2 - (b^2)*ν)*(h^3)) / (60a*(b^2)*(1 - (ν^2)))\n",
       " (E*(a^2 + 10(b^2) + 4(a^2)*ν)*(h^3)) / (60(a^2)*b*(1 - (ν^2)))                                     0\n",
       " (E*(10(a^2) + b^2 + 4(b^2)*ν)*(h^3)) / (60a*(b^2)*(1 - (ν^2)))                                     (E*(10(a^2) - (b^2) + (b^2)*ν)*(h^3)) / (180a*b*(1 - (ν^2)))\n",
       " (E*(10(a^4) - 14(a^2)*(b^2) - 20(b^4) + 4(a^2)*(b^2)*ν)*(h^3)) / (60(a^3)*(b^3)*(1 - (ν^2)))       (E*(5(a^2) - (b^2) + (b^2)*ν)*(h^3)) / (60a*(b^2)*(1 - (ν^2)))\n",
       " (E*(a^2 + 10(b^2) - (a^2)*ν)*(h^3)) / (60(a^2)*b*(1 - (ν^2)))                                      0\n",
       " (E*(5(a^2) - (b^2) - 4(b^2)*ν)*(h^3)) / (60a*(b^2)*(1 - (ν^2)))                                …   (E*(5(a^2) + b^2 - (b^2)*ν)*(h^3)) / (180a*b*(1 - (ν^2)))\n",
       " (E*(-10(a^4) + 14(a^2)*(b^2) - 10(b^4) - 4(a^2)*(b^2)*ν)*(h^3)) / (60(a^3)*(b^3)*(1 - (ν^2)))      (E*(-5(a^2) + b^2 + 4(b^2)*ν)*(h^3)) / (60a*(b^2)*(1 - (ν^2)))\n",
       " (E*(-(a^2) + 5(b^2) + (a^2)*ν)*(h^3)) / (60(a^2)*b*(1 - (ν^2)))                                    0\n",
       " (E*(5(a^2) - (b^2) + (b^2)*ν)*(h^3)) / (60a*(b^2)*(1 - (ν^2)))                                     (E*(10(a^2) - 4(b^2) + 4(b^2)*ν)*(h^3)) / (180a*b*(1 - (ν^2)))\n",
       " (E*(-20(a^4) - 14(a^2)*(b^2) + 10(b^4) + 4(a^2)*(b^2)*ν)*(h^3)) / (60(a^3)*(b^3)*(1 - (ν^2)))      (E*(-10(a^2) - (b^2) - 4(b^2)*ν)*(h^3)) / (60a*(b^2)*(1 - (ν^2)))\n",
       " (E*(-(a^2) + 5(b^2) - 4(a^2)*ν)*(h^3)) / (60(a^2)*b*(1 - (ν^2)))                               …  (-E*(h^3)*ν) / (12(1 - (ν^2)))\n",
       " (E*(10(a^2) + b^2 - (b^2)*ν)*(h^3)) / (60a*(b^2)*(1 - (ν^2)))                                      (E*(20(a^2) + 4(b^2) - 4(b^2)*ν)*(h^3)) / (180a*b*(1 - (ν^2)))"
      ]
     },
     "metadata": {},
     "output_type": "display_data"
    }
   ],
   "source": [
    "∂1(u) =  (∂x(∂x(u)))\n",
    "∂2(u) =  (∂y(∂y(u)))\n",
    "∂3(u) =  2*(∂x(∂y(u)))\n",
    "Be1(u) = [∂1(u), ∂2(u), ∂3(u)]\n",
    "Be2(u) = [∂1(u) + ν * ∂2(u), ν * ∂1(u) + ∂2(u),(1- ν)/2 * ∂3(u)]\n",
    "\n",
    "ae(u,v) = integrate(Be1(u) ⋅ Be2(v), (0 .. a) , (0 .. b))\n",
    "Ke = (((E*h^3) / (12*(1-ν^2)))* simplifyx.([ae(n1, n2) for n1 ∈ H4, n2 ∈ H4]))"
   ]
  },
  {
   "cell_type": "markdown",
   "metadata": {},
   "source": [
    "Output der Elementsteifigkeitsmatrix"
   ]
  },
  {
   "cell_type": "code",
   "execution_count": 8,
   "metadata": {},
   "outputs": [
    {
     "name": "stdout",
     "output_type": "stream",
     "text": [
      "Ke[1,1] = Ke[4,4] = Ke[7,7] = Ke[10,10] = (E*(20(a^4) + 14(a^2)*(b^2) + 20(b^4) - 4(a^2)*(b^2)*ν)*(h^3)) / (60(a^3)*(b^3)*(1 - (ν^2)))\n",
      "Ke[1,2] = Ke[2,1] = Ke[10,11] = Ke[11,10] = (E*(a^2 + 10(b^2) + 4(a^2)*ν)*(h^3)) / (60(a^2)*b*(1 - (ν^2)))\n",
      "Ke[1,3] = Ke[3,1] = Ke[4,6] = Ke[6,4] = (E*(10(a^2) + b^2 + 4(b^2)*ν)*(h^3)) / (60a*(b^2)*(1 - (ν^2)))\n",
      "Ke[1,4] = Ke[4,1] = Ke[7,10] = Ke[10,7] = (E*(10(a^4) - 14(a^2)*(b^2) - 20(b^4) + 4(a^2)*(b^2)*ν)*(h^3)) / (60(a^3)*(b^3)*(1 - (ν^2)))\n",
      "Ke[1,5] = Ke[5,1] = Ke[8,10] = Ke[10,8] = (E*(a^2 + 10(b^2) - (a^2)*ν)*(h^3)) / (60(a^2)*b*(1 - (ν^2)))\n",
      "Ke[1,6] = Ke[3,4] = Ke[4,3] = Ke[6,1] = (E*(5(a^2) - (b^2) - 4(b^2)*ν)*(h^3)) / (60a*(b^2)*(1 - (ν^2)))\n",
      "Ke[1,7] = Ke[4,10] = Ke[7,1] = Ke[10,4] = (E*(-10(a^4) + 14(a^2)*(b^2) - 10(b^4) - 4(a^2)*(b^2)*ν)*(h^3)) / (60(a^3)*(b^3)*(1 - (ν^2)))\n",
      "Ke[1,8] = Ke[5,10] = Ke[8,1] = Ke[10,5] = (E*(-(a^2) + 5(b^2) + (a^2)*ν)*(h^3)) / (60(a^2)*b*(1 - (ν^2)))\n",
      "Ke[1,9] = Ke[4,12] = Ke[9,1] = Ke[12,4] = (E*(5(a^2) - (b^2) + (b^2)*ν)*(h^3)) / (60a*(b^2)*(1 - (ν^2)))\n",
      "Ke[1,10] = Ke[4,7] = Ke[7,4] = Ke[10,1] = (E*(-20(a^4) - 14(a^2)*(b^2) + 10(b^4) + 4(a^2)*(b^2)*ν)*(h^3)) / (60(a^3)*(b^3)*(1 - (ν^2)))\n",
      "Ke[1,11] = Ke[2,10] = Ke[10,2] = Ke[11,1] = (E*(-(a^2) + 5(b^2) - 4(a^2)*ν)*(h^3)) / (60(a^2)*b*(1 - (ν^2)))\n",
      "Ke[1,12] = Ke[4,9] = Ke[9,4] = Ke[12,1] = (E*(10(a^2) + b^2 - (b^2)*ν)*(h^3)) / (60a*(b^2)*(1 - (ν^2)))\n",
      "Ke[2,2] = Ke[5,5] = Ke[8,8] = Ke[11,11] = (E*(4(a^2) + 20(b^2) - 4(a^2)*ν)*(h^3)) / (180a*b*(1 - (ν^2)))\n",
      "Ke[2,3] = Ke[3,2] = Ke[8,9] = Ke[9,8] = (E*(h^3)*ν) / (12(1 - (ν^2)))\n",
      "Ke[2,4] = Ke[4,2] = Ke[7,11] = Ke[11,7] = (E*(-(a^2) - 10(b^2) + (a^2)*ν)*(h^3)) / (60(a^2)*b*(1 - (ν^2)))\n",
      "Ke[2,5] = Ke[5,2] = Ke[8,11] = Ke[11,8] = (E*(-(a^2) + 10(b^2) + (a^2)*ν)*(h^3)) / (180a*b*(1 - (ν^2)))\n",
      "Ke[2,6] = Ke[2,9] = Ke[2,12] = Ke[3,5] = Ke[3,8] = Ke[3,11] = Ke[5,3] = Ke[5,9] = Ke[5,12] = Ke[6,2] = Ke[6,8] = Ke[6,11] = Ke[8,3] = Ke[8,6] = Ke[8,12] = Ke[9,2] = Ke[9,5] = Ke[9,11] = Ke[11,3] = Ke[11,6] = Ke[11,9] = Ke[12,2] = Ke[12,5] = Ke[12,8] = 0\n",
      "Ke[2,7] = Ke[4,11] = Ke[7,2] = Ke[11,4] = (E*(a^2 - 5(b^2) - (a^2)*ν)*(h^3)) / (60(a^2)*b*(1 - (ν^2)))\n",
      "Ke[2,8] = Ke[5,11] = Ke[8,2] = Ke[11,5] = (E*(a^2 + 5(b^2) - (a^2)*ν)*(h^3)) / (180a*b*(1 - (ν^2)))\n",
      "Ke[2,11] = Ke[5,8] = Ke[8,5] = Ke[11,2] = (E*(-4(a^2) + 10(b^2) + 4(a^2)*ν)*(h^3)) / (180a*b*(1 - (ν^2)))\n",
      "Ke[3,3] = Ke[6,6] = Ke[9,9] = Ke[12,12] = (E*(20(a^2) + 4(b^2) - 4(b^2)*ν)*(h^3)) / (180a*b*(1 - (ν^2)))\n",
      "Ke[3,6] = Ke[6,3] = Ke[9,12] = Ke[12,9] = (E*(10(a^2) - 4(b^2) + 4(b^2)*ν)*(h^3)) / (180a*b*(1 - (ν^2)))\n",
      "Ke[3,7] = Ke[6,10] = Ke[7,3] = Ke[10,6] = (E*(-5(a^2) + b^2 - (b^2)*ν)*(h^3)) / (60a*(b^2)*(1 - (ν^2)))\n",
      "Ke[3,9] = Ke[6,12] = Ke[9,3] = Ke[12,6] = (E*(5(a^2) + b^2 - (b^2)*ν)*(h^3)) / (180a*b*(1 - (ν^2)))\n",
      "Ke[3,10] = Ke[6,7] = Ke[7,6] = Ke[10,3] = (E*(-10(a^2) - (b^2) + (b^2)*ν)*(h^3)) / (60a*(b^2)*(1 - (ν^2)))\n",
      "Ke[3,12] = Ke[6,9] = Ke[9,6] = Ke[12,3] = (E*(10(a^2) - (b^2) + (b^2)*ν)*(h^3)) / (180a*b*(1 - (ν^2)))\n",
      "Ke[4,5] = Ke[5,4] = Ke[7,8] = Ke[8,7] = (E*(-(a^2) - 10(b^2) - 4(a^2)*ν)*(h^3)) / (60(a^2)*b*(1 - (ν^2)))\n",
      "Ke[4,8] = Ke[5,7] = Ke[7,5] = Ke[8,4] = (E*(a^2 - 5(b^2) + 4(a^2)*ν)*(h^3)) / (60(a^2)*b*(1 - (ν^2)))\n",
      "Ke[5,6] = Ke[6,5] = Ke[11,12] = Ke[12,11] = (-E*(h^3)*ν) / (12(1 - (ν^2)))\n",
      "Ke[7,9] = Ke[9,7] = Ke[10,12] = Ke[12,10] = (E*(-10(a^2) - (b^2) - 4(b^2)*ν)*(h^3)) / (60a*(b^2)*(1 - (ν^2)))\n",
      "Ke[7,12] = Ke[9,10] = Ke[10,9] = Ke[12,7] = (E*(-5(a^2) + b^2 + 4(b^2)*ν)*(h^3)) / (60a*(b^2)*(1 - (ν^2)))\n"
     ]
    }
   ],
   "source": [
    "KeNew = zeros(12,12)\n",
    "for i = 1:12\n",
    "    for j = 1:12\n",
    "        if KeNew[i,j] == 1\n",
    "        else \n",
    "            KeNew[i,j] = 1 \n",
    "            print(\"Ke[\",i,\",\",j,\"]\")\n",
    "            for m = 1:12\n",
    "                for n = 1:12\n",
    "                    if m==i && j==n \n",
    "                    elseif isequal((Ke[i,j]),(Ke[m,n])) == true \n",
    "                        KeNew[m,n] = 1.0\n",
    "                        print(\" = \", \"Ke[\",m,\",\",n,\"]\")\n",
    "                    # elseif isequal(expand(Ke[i,j]),expand(-1*(Ke[m,n]))) == true \n",
    "                    #     KeNew[m,n] = 1.0\n",
    "                    #     print(\" = \", \"-Ke[\",m,\",\",n,\"]\")\n",
    "                    else\n",
    "                    end\n",
    "                end\n",
    "            end\n",
    "        print(\" = \", Ke[i,j])\n",
    "        println()\n",
    "        end\n",
    "    end\n",
    "end"
   ]
  },
  {
   "cell_type": "markdown",
   "metadata": {},
   "source": [
    "Vergleichswerte aus dem Buch von Klein"
   ]
  },
  {
   "cell_type": "code",
   "execution_count": 9,
   "metadata": {},
   "outputs": [
    {
     "name": "stdout",
     "output_type": "stream",
     "text": [
      "(E*(h^3)*(84 - 24ν + 120((a / b)^2 + (b / a)^2))) / (1440a*b*(1 - (ν^2)))(E*(h^3)*(1 + 4ν + 10((a / b)^2))) / (120a*(1 - (ν^2)))(-E*(h^3)*(1 + 4ν + 10((b / a)^2))) / (12b*(1 - (ν^2)))-84 + (E*(h^3)*(-2((a / b)^2) + (b / a)^2)) / (24a*b*(1 - (ν^2))) + 24ν"
     ]
    }
   ],
   "source": [
    "beta2 = a/b\n",
    "gamma = b/a\n",
    "fKlein = ((E*h^3) / (1440*(1-(ν^2))*a*b));\n",
    "ke11Klein = print(fKlein * (120 * (beta2^2 + gamma^2) - 24ν +84));\n",
    "ke12Klein = print(fKlein * (10beta2^2 + (1 + 4ν)) * 12b);\n",
    "ke13Klein = print(fKlein * -10 * (10gamma^2 +(1 + 4ν)) * 12a);\n",
    "ke14Klein = print(fKlein * 60 * (gamma^2 - 2beta2^2) + 24ν - 84);"
   ]
  },
  {
   "cell_type": "code",
   "execution_count": 10,
   "metadata": {},
   "outputs": [
    {
     "data": {
      "text/plain": [
       "true"
      ]
     },
     "metadata": {},
     "output_type": "display_data"
    }
   ],
   "source": [
    "isequal((Ke[1,1]),(Ke[4,4]))"
   ]
  },
  {
   "cell_type": "code",
   "execution_count": 11,
   "metadata": {},
   "outputs": [
    {
     "name": "stdout",
     "output_type": "stream",
     "text": [
      "(E*(10(a^4) - 14(a^2)*(b^2) - 20(b^4) + 4(a^2)*(b^2)*ν)*(h^3)) / (60(a^3)*(b^3)*(1 - (ν^2)))"
     ]
    },
    {
     "data": {
      "text/plain": [
       "true"
      ]
     },
     "metadata": {},
     "output_type": "display_data"
    }
   ],
   "source": [
    "isequal(print(Ke[1,4]),ke14Klein)"
   ]
  },
  {
   "cell_type": "code",
   "execution_count": 12,
   "metadata": {},
   "outputs": [
    {
     "data": {
      "text/latex": [
       "$$ \\begin{equation}\n",
       "\\left[\n",
       "\\begin{array}{c}\n",
       "a b p \\\\\n",
       "\\frac{1}{3} b^{2} a p \\\\\n",
       " - \\frac{1}{3} a^{2} b p \\\\\n",
       "a b p \\\\\n",
       "\\frac{1}{3} b^{2} a p \\\\\n",
       "\\frac{1}{3} a^{2} b p \\\\\n",
       "a b p \\\\\n",
       " - \\frac{1}{3} b^{2} a p \\\\\n",
       "\\frac{1}{3} a^{2} b p \\\\\n",
       "a b p \\\\\n",
       " - \\frac{1}{3} b^{2} a p \\\\\n",
       " - \\frac{1}{3} a^{2} b p \\\\\n",
       "\\end{array}\n",
       "\\right]\n",
       "\\end{equation}\n",
       " $$"
      ],
      "text/plain": [
       "12-element Vector{Num}:\n",
       "             a*b*p\n",
       "  (1//3)*a*(b^2)*p\n",
       " (-1//3)*(a^2)*b*p\n",
       "             a*b*p\n",
       "  (1//3)*a*(b^2)*p\n",
       "  (1//3)*(a^2)*b*p\n",
       "             a*b*p\n",
       " (-1//3)*a*(b^2)*p\n",
       "  (1//3)*(a^2)*b*p\n",
       "             a*b*p\n",
       " (-1//3)*a*(b^2)*p\n",
       " (-1//3)*(a^2)*b*p"
      ]
     },
     "metadata": {},
     "output_type": "display_data"
    }
   ],
   "source": [
    "fe = p * a * b * 1/3 * [3,b,-a,3,b,a,3,-b,a,3,-b,-a]"
   ]
  },
  {
   "cell_type": "code",
   "execution_count": 16,
   "metadata": {},
   "outputs": [
    {
     "data": {
      "text/latex": [
       "$$ \\begin{equation}\n",
       "\\left[\n",
       "\\begin{array}{c}\n",
       "\\frac{1}{4} a b p \\\\\n",
       "\\frac{1}{24} a^{2} b p \\\\\n",
       "\\frac{1}{24} b^{2} a p \\\\\n",
       "\\frac{1}{4} a b p \\\\\n",
       " - \\frac{1}{24} a^{2} b p \\\\\n",
       "\\frac{1}{24} b^{2} a p \\\\\n",
       "\\frac{1}{4} a b p \\\\\n",
       " - \\frac{1}{24} a^{2} b p \\\\\n",
       " - \\frac{1}{24} b^{2} a p \\\\\n",
       "\\frac{1}{4} a b p \\\\\n",
       "\\frac{1}{24} a^{2} b p \\\\\n",
       " - \\frac{1}{24} b^{2} a p \\\\\n",
       "\\end{array}\n",
       "\\right]\n",
       "\\end{equation}\n",
       " $$"
      ],
      "text/plain": [
       "12-element Vector{Num}:\n",
       "       (1//4)*a*b*p\n",
       "  (1//24)*(a^2)*b*p\n",
       "  (1//24)*a*(b^2)*p\n",
       "       (1//4)*a*b*p\n",
       " (-1//24)*(a^2)*b*p\n",
       "  (1//24)*a*(b^2)*p\n",
       "       (1//4)*a*b*p\n",
       " (-1//24)*(a^2)*b*p\n",
       " (-1//24)*a*(b^2)*p\n",
       "       (1//4)*a*b*p\n",
       "  (1//24)*(a^2)*b*p\n",
       " (-1//24)*a*(b^2)*p"
      ]
     },
     "metadata": {},
     "output_type": "display_data"
    }
   ],
   "source": [
    "f(u) = integrate(u, (0 .. a) , (0 .. b))\n",
    "FeN =  p * simplifyx.([f(n1) for n1 ∈ H4])"
   ]
  }
 ],
 "metadata": {
  "kernelspec": {
   "display_name": "Julia 1.10.0",
   "language": "julia",
   "name": "julia-1.10"
  },
  "language_info": {
   "file_extension": ".jl",
   "mimetype": "application/julia",
   "name": "julia",
   "version": "1.10.0"
  }
 },
 "nbformat": 4,
 "nbformat_minor": 2
}
