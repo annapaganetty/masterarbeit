{
 "cells": [
  {
   "cell_type": "markdown",
   "metadata": {},
   "source": [
    "Elementsteifigkeitsmatizen Literatur"
   ]
  },
  {
   "cell_type": "code",
   "execution_count": 118,
   "metadata": {},
   "outputs": [
    {
     "name": "stderr",
     "output_type": "stream",
     "text": [
      "\u001b[32m\u001b[1m    Updating\u001b[22m\u001b[39m git-repo `https://github.com/matthiasbaitsch/mmjmesh.git`\n",
      "\u001b[32m\u001b[1m   Resolving\u001b[22m\u001b[39m package versions...\n",
      "\u001b[32m\u001b[1m  No Changes\u001b[22m\u001b[39m to `~/.julia/environments/v1.10/Project.toml`\n",
      "\u001b[32m\u001b[1m  No Changes\u001b[22m\u001b[39m to `~/.julia/environments/v1.10/Manifest.toml`\n"
     ]
    }
   ],
   "source": [
    "import Pkg\n",
    "\n",
    "Pkg.add(url=\"https://github.com/matthiasbaitsch/mmjmesh.git\");\n",
    "\n",
    "using IntervalSets\n",
    "using MMJMesh.Plots\n",
    "using MMJMesh.Meshes\n",
    "using MMJMesh.Utilities\n",
    "using MMJMesh.Mathematics\n",
    "using LinearAlgebra\n",
    "using Symbolics\n",
    "using DomainSets\n",
    "using CairoMakie"
   ]
  },
  {
   "cell_type": "markdown",
   "metadata": {},
   "source": [
    "Variablen"
   ]
  },
  {
   "cell_type": "code",
   "execution_count": 119,
   "metadata": {},
   "outputs": [],
   "source": [
    "@variables E, h,v,a,b;\n",
    "alpha = a/b\n",
    "beta = b/a;"
   ]
  },
  {
   "cell_type": "markdown",
   "metadata": {},
   "source": [
    "Buch:"
   ]
  },
  {
   "cell_type": "code",
   "execution_count": 116,
   "metadata": {},
   "outputs": [],
   "source": [
    "fBook = ((E*h^3) / (12*(1-v^2)*a*b)) \n",
    "ke11B = fBook * 4 * (beta^2 + alpha^2) + (14-4v)/5\n",
    "ke12B = fBook * ((2alpha^2 + 1/5 * (1 + 4v)) * b)\n",
    "ke13B = fBook * (((4/3 * alpha^2) + 4/15 * (1 - v)) * b^2);"
   ]
  },
  {
   "cell_type": "code",
   "execution_count": 117,
   "metadata": {},
   "outputs": [
    {
     "data": {
      "text/latex": [
       "$$ \\begin{equation}\n",
       "\\frac{h^{3} E}{12 a b \\left( 1 - v^{2} \\right)}\n",
       "\\end{equation}\n",
       " $$"
      ],
      "text/plain": [
       "(E*(h^3)) / (12a*b*(1 - (v^2)))"
      ]
     },
     "metadata": {},
     "output_type": "display_data"
    },
    {
     "data": {
      "text/latex": [
       "$$ \\begin{equation}\n",
       "\\frac{14}{5} - \\frac{4}{5} v + \\frac{\\left( \\frac{a}{b} \\right)^{2} h^{3} E + \\left( \\frac{b}{a} \\right)^{2} h^{3} E}{3 a b - 3 v^{2} a b}\n",
       "\\end{equation}\n",
       " $$"
      ],
      "text/plain": [
       "(14//5) - (4//5)*v + (E*(h^3)*((a / b)^2) + E*(h^3)*((b / a)^2)) / (3a*b - 3a*b*(v^2))"
      ]
     },
     "metadata": {},
     "output_type": "display_data"
    },
    {
     "data": {
      "text/latex": [
       "$$ \\begin{equation}\n",
       "\\frac{0.2 h^{3} E + 0.8 h^{3} E v + 2 \\left( \\frac{a}{b} \\right)^{2} h^{3} E}{12 a - 12 v^{2} a}\n",
       "\\end{equation}\n",
       " $$"
      ],
      "text/plain": [
       "(0.2E*(h^3) + 0.8E*(h^3)*v + 2.0E*(h^3)*((a / b)^2)) / (12a - 12a*(v^2))"
      ]
     },
     "metadata": {},
     "output_type": "display_data"
    },
    {
     "data": {
      "text/latex": [
       "$$ \\begin{equation}\n",
       "\\frac{0.26667 h^{3} E b - 0.26667 h^{3} E b v + 1.3333 \\left( \\frac{a}{b} \\right)^{2} h^{3} E b}{12 a - 12 v^{2} a}\n",
       "\\end{equation}\n",
       " $$"
      ],
      "text/plain": [
       "(0.26666666666666666E*b*(h^3) - 0.26666666666666666E*b*(h^3)*v + 1.3333333333333333E*b*(h^3)*((a / b)^2)) / (12a - 12a*(v^2))"
      ]
     },
     "metadata": {},
     "output_type": "display_data"
    }
   ],
   "source": [
    "display(fBook)\n",
    "display(expand(ke11B))\n",
    "display(expand(ke12B))\n",
    "display(expand(ke13B))"
   ]
  },
  {
   "cell_type": "markdown",
   "metadata": {},
   "source": [
    "Paper"
   ]
  },
  {
   "cell_type": "code",
   "execution_count": 112,
   "metadata": {},
   "outputs": [],
   "source": [
    "fPaper = ((E*h^3) / (48*(1-v^2)*a*b))\n",
    "ke11P = fPaper * (4 * (beta^2 + alpha^2) + 2/3 * (7 - 2v))\n",
    "ke12P = fPaper * 2 * (2alpha^2 + 1/5 * (1 + 4v)) * b\n",
    "ke13P = fPaper * (-2beta^2 - 1/5 * (1 + 4v)) * a\n",
    "fPaper;"
   ]
  },
  {
   "cell_type": "code",
   "execution_count": 113,
   "metadata": {},
   "outputs": [
    {
     "data": {
      "text/latex": [
       "$$ \\begin{equation}\n",
       "\\frac{h^{3} E}{48 a b \\left( 1 - v^{2} \\right)}\n",
       "\\end{equation}\n",
       " $$"
      ],
      "text/plain": [
       "(E*(h^3)) / (48a*b*(1 - (v^2)))"
      ]
     },
     "metadata": {},
     "output_type": "display_data"
    },
    {
     "data": {
      "text/latex": [
       "$$ \\begin{equation}\n",
       "\\frac{4.6667 h^{3} E - 1.3333 h^{3} E v + 4 \\left( \\frac{a}{b} \\right)^{2} h^{3} E + 4 \\left( \\frac{b}{a} \\right)^{2} h^{3} E}{48 a b - 48 v^{2} a b}\n",
       "\\end{equation}\n",
       " $$"
      ],
      "text/plain": [
       "(4.666666666666666E*(h^3) - 1.3333333333333333E*(h^3)*v + 4.0E*(h^3)*((a / b)^2) + 4.0E*(h^3)*((b / a)^2)) / (48a*b - 48a*b*(v^2))"
      ]
     },
     "metadata": {},
     "output_type": "display_data"
    },
    {
     "data": {
      "text/latex": [
       "$$ \\begin{equation}\n",
       "\\frac{0.2 h^{3} E + 0.8 h^{3} E v + 2 \\left( \\frac{a}{b} \\right)^{2} h^{3} E}{24 a - 24 v^{2} a}\n",
       "\\end{equation}\n",
       " $$"
      ],
      "text/plain": [
       "(0.2E*(h^3) + 0.8E*(h^3)*v + 2.0E*(h^3)*((a / b)^2)) / (24a - 24a*(v^2))"
      ]
     },
     "metadata": {},
     "output_type": "display_data"
    },
    {
     "data": {
      "text/latex": [
       "$$ \\begin{equation}\n",
       "\\frac{ - 0.2 h^{3} E - 0.8 h^{3} E v - 2 \\left( \\frac{b}{a} \\right)^{2} h^{3} E}{48 b - 48 v^{2} b}\n",
       "\\end{equation}\n",
       " $$"
      ],
      "text/plain": [
       "(-0.2E*(h^3) - 0.8E*(h^3)*v - 2.0E*(h^3)*((b / a)^2)) / (48b - 48b*(v^2))"
      ]
     },
     "metadata": {},
     "output_type": "display_data"
    }
   ],
   "source": [
    "display(fPaper)\n",
    "display(expand(ke11P))\n",
    "display(expand(ke12P))\n",
    "display(expand(ke13P))"
   ]
  },
  {
   "cell_type": "markdown",
   "metadata": {},
   "source": [
    "Buch: Klein"
   ]
  },
  {
   "cell_type": "code",
   "execution_count": 121,
   "metadata": {},
   "outputs": [],
   "source": [
    "beta2 = a/b\n",
    "gamma = b/a;"
   ]
  },
  {
   "cell_type": "code",
   "execution_count": 127,
   "metadata": {},
   "outputs": [
    {
     "name": "stdout",
     "output_type": "stream",
     "text": [
      "(E*(h^3)*(84 - 24v + 120((a / b)^2 + (b / a)^2))) / (1440a*b*(1 - (v^2)))(E*(h^3)*(1 + 4v + 10((a / b)^2))) / (120a*(1 - (v^2)))(-E*(h^3)*(1 + 4v + 10((b / a)^2))) / (12b*(1 - (v^2)))-84 + 24v + (E*(h^3)*(-2((a / b)^2) + (b / a)^2)) / (24a*b*(1 - (v^2)))"
     ]
    }
   ],
   "source": [
    "fKlein = ((E*h^3) / (1440*(1-(v^2))*a*b));\n",
    "ke11Klein = print(fKlein * (120 * (beta2^2 + gamma^2) - 24v +84));\n",
    "ke12Klein = print(fKlein * (10beta2^2 + (1 + 4v)) * 12b);\n",
    "ke13Klein = print(fKlein * -10 * (10gamma^2 +(1 + 4v)) * 12a);\n",
    "ke14Klein = print(fKlein * 60 * (gamma^2 - 2beta2^2) + 24v - 84);"
   ]
  }
 ],
 "metadata": {
  "kernelspec": {
   "display_name": "Julia 1.10.0",
   "language": "julia",
   "name": "julia-1.10"
  },
  "language_info": {
   "file_extension": ".jl",
   "mimetype": "application/julia",
   "name": "julia",
   "version": "1.10.0"
  }
 },
 "nbformat": 4,
 "nbformat_minor": 2
}
