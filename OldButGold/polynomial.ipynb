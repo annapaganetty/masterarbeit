{
 "cells": [
  {
   "cell_type": "code",
   "execution_count": 7,
   "metadata": {},
   "outputs": [
    {
     "name": "stderr",
     "output_type": "stream",
     "text": [
      "\u001b[32m\u001b[1m    Updating\u001b[22m\u001b[39m git-repo `https://github.com/matthiasbaitsch/mmjmesh.git`\n",
      "\u001b[32m\u001b[1m    Updating\u001b[22m\u001b[39m registry at `~/.julia/registries/General.toml`\n",
      "\u001b[32m\u001b[1m   Resolving\u001b[22m\u001b[39m package versions...\n",
      "\u001b[32m\u001b[1m  No Changes\u001b[22m\u001b[39m to `~/.julia/environments/v1.10/Project.toml`\n",
      "\u001b[32m\u001b[1m  No Changes\u001b[22m\u001b[39m to `~/.julia/environments/v1.10/Manifest.toml`\n",
      "WARNING: using SymPy.E in module Main conflicts with an existing identifier.\n"
     ]
    }
   ],
   "source": [
    "import Pkg\n",
    "import CairoMakie\n",
    "\n",
    "Pkg.add(url=\"https://github.com/matthiasbaitsch/mmjmesh.git\");\n",
    "\n",
    "using IntervalSets\n",
    "using MMJMesh.Plots\n",
    "using MMJMesh.Meshes\n",
    "using MMJMesh.Utilities\n",
    "using MMJMesh.Mathematics\n",
    "\n",
    "using SymPy\n",
    "using GLMakie"
   ]
  },
  {
   "cell_type": "code",
   "execution_count": 8,
   "metadata": {},
   "outputs": [],
   "source": [
    "@syms xi eta a b v E\n",
    "\n",
    "a = 2\n",
    "b = 2\n",
    "# E = 1\n",
    "# v = 0.5\n",
    "# h = 1\n",
    "\n",
    "valueAt(f, xxEta,xxXi) = f.subs([(eta, xxEta),(xi,xxXi)])\n",
    "\n",
    "# Basis for P\n",
    "P = [1, xi, eta, xi^2, xi*eta, eta^2, xi^3, xi^2*eta, xi*eta^2, eta^3, xi^3*eta, xi*eta^3]\n",
    "\n",
    "# Linear forms\n",
    "N = [   f -> valueAt(f, -b/2, -a/2),     f -> (1/a) * valueAt(diff(f,eta), -b/2, -a/2),    f -> (1/b) * valueAt(diff(f,xi), -b/2, -a/2),\n",
    "        f -> valueAt(f, -b/2, a/2),      f -> (1/a) * valueAt(diff(f,eta), -b/2, a/2),     f -> (1/b) * valueAt(diff(f,xi), -b/2, a/2),\n",
    "        f -> valueAt(f, b/2, a/2),       f -> (1/a) * valueAt(diff(f,eta), b/2, a/2),      f -> (1/b) * valueAt(diff(f,xi), b/2, a/2),\n",
    "        f -> valueAt(f, b/2, -a/2),      f -> (1/a) * valueAt(diff(f,eta), b/2, -a/2),     f -> (1/b) * valueAt(diff(f,xi), b/2, -a/2)]\n",
    "\n",
    "# matrix N_i(P_j)\n",
    "M = [N[i](P[j]) for j = 1:12, i = 1:12]\n",
    "\n",
    "# Nodal basis\n",
    "phi = inv(M) * P;"
   ]
  },
  {
   "cell_type": "code",
   "execution_count": 9,
   "metadata": {},
   "outputs": [
    {
     "data": {
      "text/latex": [
       "$\\left[\\begin{smallmatrix}- 0.125 \\eta^{3} \\xi + 0.125 \\eta^{3} - 0.125 \\eta \\xi^{3} - 4.51117235421841 \\cdot 10^{-17} \\eta \\xi^{2} + 0.5 \\eta \\xi - 0.375 \\eta + 0.125 \\xi^{3} - 4.51117235421841 \\cdot 10^{-17} \\xi^{2} - 0.375 \\xi + 0.25\\\\- 0.25 \\eta^{3} \\xi + 0.25 \\eta^{3} + 0.25 \\eta^{2} \\xi - 0.25 \\eta^{2} + 1.45577431115384 \\cdot 10^{-16} \\eta \\xi^{3} + 0.25 \\eta \\xi - 0.25 \\eta + 1.45577431115384 \\cdot 10^{-16} \\xi^{3} - 0.25 \\xi + 0.25\\\\- 0.25 \\eta \\xi^{3} + 0.25 \\eta \\xi^{2} + 0.25 \\eta \\xi - 0.25 \\eta + 0.25 \\xi^{3} - 0.25 \\xi^{2} - 0.25 \\xi + 0.25\\\\0.125 \\eta^{3} \\xi + 0.125 \\eta^{3} + 0.125 \\eta \\xi^{3} + 6.87341683918938 \\cdot 10^{-17} \\eta \\xi^{2} - 0.5 \\eta \\xi - 0.375 \\eta - 0.125 \\xi^{3} + 6.87341683918938 \\cdot 10^{-17} \\xi^{2} + 0.375 \\xi + 0.25\\\\0.25 \\eta^{3} \\xi + 0.25 \\eta^{3} - 0.25 \\eta^{2} \\xi - 0.25 \\eta^{2} + 2.18366146673075 \\cdot 10^{-16} \\eta \\xi^{3} + 5.45915366682688 \\cdot 10^{-17} \\eta \\xi^{2} - 0.25 \\eta \\xi - 0.25 \\eta + 2.18366146673075 \\cdot 10^{-16} \\xi^{3} + 5.45915366682688 \\cdot 10^{-17} \\xi^{2} + 0.25 \\xi + 0.25\\\\- 0.25 \\eta \\xi^{3} - 0.25 \\eta \\xi^{2} + 0.25 \\eta \\xi + 0.25 \\eta + 0.25 \\xi^{3} + 0.25 \\xi^{2} - 0.25 \\xi - 0.25\\\\- 0.125 \\eta^{3} \\xi - 0.125 \\eta^{3} - 0.125 \\eta \\xi^{3} - 9.63470111198796 \\cdot 10^{-17} \\eta \\xi^{2} + 0.5 \\eta \\xi + 0.375 \\eta - 0.125 \\xi^{3} - 9.63470111198796 \\cdot 10^{-17} \\xi^{2} + 0.375 \\xi + 0.25\\\\0.25 \\eta^{3} \\xi + 0.25 \\eta^{3} + 0.25 \\eta^{2} \\xi + 0.25 \\eta^{2} - 2.96696909126753 \\cdot 10^{-17} \\eta \\xi^{3} - 0.25 \\eta \\xi - 0.25 \\eta - 2.96696909126753 \\cdot 10^{-17} \\xi^{3} - 0.25 \\xi - 0.25\\\\0.25 \\eta \\xi^{3} + 0.25 \\eta \\xi^{2} - 0.25 \\eta \\xi - 0.25 \\eta + 0.25 \\xi^{3} + 0.25 \\xi^{2} - 0.25 \\xi - 0.25\\\\0.125 \\eta^{3} \\xi - 0.125 \\eta^{3} + 0.125 \\eta \\xi^{3} - 0.5 \\eta \\xi + 0.375 \\eta + 0.125 \\xi^{3} - 0.375 \\xi + 0.25\\\\- 0.25 \\eta^{3} \\xi + 0.25 \\eta^{3} - 0.25 \\eta^{2} \\xi + 0.25 \\eta^{2} + 0.25 \\eta \\xi - 0.25 \\eta + 0.25 \\xi - 0.25\\\\0.25 \\eta \\xi^{3} - 0.25 \\eta \\xi^{2} - 0.25 \\eta \\xi + 0.25 \\eta + 0.25 \\xi^{3} - 0.25 \\xi^{2} - 0.25 \\xi + 0.25\\end{smallmatrix}\\right]$"
      ],
      "text/plain": [
       "12-element Vector{Sym{PyCall.PyObject}}:\n",
       "                                                        -0.125*eta^3*xi + 0.125*eta^3 - 0.125*eta*xi^3 - 4.51117235421841e-17*eta*xi^2 + 0.5*eta*xi - 0.375*eta + 0.125*xi^3 - 4.51117235421841e-17*xi^2 - 0.375*xi + 0.25\n",
       "                                                            -0.25*eta^3*xi + 0.25*eta^3 + 0.25*eta^2*xi - 0.25*eta^2 + 1.45577431115384e-16*eta*xi^3 + 0.25*eta*xi - 0.25*eta + 1.45577431115384e-16*xi^3 - 0.25*xi + 0.25\n",
       "                                                                                                                          -0.25*eta*xi^3 + 0.25*eta*xi^2 + 0.25*eta*xi - 0.25*eta + 0.25*xi^3 - 0.25*xi^2 - 0.25*xi + 0.25\n",
       "                                                         0.125*eta^3*xi + 0.125*eta^3 + 0.125*eta*xi^3 + 6.87341683918938e-17*eta*xi^2 - 0.5*eta*xi - 0.375*eta - 0.125*xi^3 + 6.87341683918938e-17*xi^2 + 0.375*xi + 0.25\n",
       " 0.25*eta^3*xi + 0.25*eta^3 - 0.25*eta^2*xi - 0.25*eta^2 + 2.18366146673075e-16*eta*xi^3 + 5.45915366682688e-17*eta*xi^2 - 0.25*eta*xi - 0.25*eta + 2.18366146673075e-16*xi^3 + 5.45915366682688e-17*xi^2 + 0.25*xi + 0.25\n",
       "                                                                                                                          -0.25*eta*xi^3 - 0.25*eta*xi^2 + 0.25*eta*xi + 0.25*eta + 0.25*xi^3 + 0.25*xi^2 - 0.25*xi - 0.25\n",
       "                                                        -0.125*eta^3*xi - 0.125*eta^3 - 0.125*eta*xi^3 - 9.63470111198796e-17*eta*xi^2 + 0.5*eta*xi + 0.375*eta - 0.125*xi^3 - 9.63470111198796e-17*xi^2 + 0.375*xi + 0.25\n",
       "                                                             0.25*eta^3*xi + 0.25*eta^3 + 0.25*eta^2*xi + 0.25*eta^2 - 2.96696909126753e-17*eta*xi^3 - 0.25*eta*xi - 0.25*eta - 2.96696909126753e-17*xi^3 - 0.25*xi - 0.25\n",
       "                                                                                                                           0.25*eta*xi^3 + 0.25*eta*xi^2 - 0.25*eta*xi - 0.25*eta + 0.25*xi^3 + 0.25*xi^2 - 0.25*xi - 0.25\n",
       "                                                                                                                     0.125*eta^3*xi - 0.125*eta^3 + 0.125*eta*xi^3 - 0.5*eta*xi + 0.375*eta + 0.125*xi^3 - 0.375*xi + 0.25\n",
       "                                                                                                                        -0.25*eta^3*xi + 0.25*eta^3 - 0.25*eta^2*xi + 0.25*eta^2 + 0.25*eta*xi - 0.25*eta + 0.25*xi - 0.25\n",
       "                                                                                                                           0.25*eta*xi^3 - 0.25*eta*xi^2 - 0.25*eta*xi + 0.25*eta + 0.25*xi^3 - 0.25*xi^2 - 0.25*xi + 0.25"
      ]
     },
     "metadata": {},
     "output_type": "display_data"
    }
   ],
   "source": [
    "phi"
   ]
  },
  {
   "cell_type": "markdown",
   "metadata": {},
   "source": [
    "$ N1 = - 0.125 \\eta^3  \\xi + 0.125 \\eta^3 - 0.125 \\eta \\xi^3 + 0.5 \\eta \\xi - 0.375 \\eta+ 0.125 \\xi^3 - 0.375 \\xi +0.25 $ \\\n",
    "$ N2 = - 0.25 \\eta^{3} \\xi + 0.25 \\eta^{3} + 0.25 \\eta^{2} \\xi - 0.25 \\eta^{2} + 0.25 \\eta \\xi - 0.25 \\eta - 0.25 \\xi + 0.25 $ \\\n",
    "$ N3 = - 0.25 \\eta \\xi^{3} + 0.25 \\eta \\xi^{2} + 0.25 \\eta \\xi - 0.25 \\eta + 0.25 \\xi^{3} - 0.25 \\xi^{2} - 0.25 \\xi + 0.25 $ \\\n",
    "$ N4 = 0.125 \\eta^{3} \\xi + 0.125 \\eta^{3} + 0.125 \\eta \\xi^{3} - 0.5 \\eta \\xi - 0.375 \\eta - 0.125 \\xi^{3} + 0.375 \\xi + 0.25 $ \\\n",
    "$ N5 = 0.25 \\eta^{3} \\xi + 0.25 \\eta^{3} - 0.25 \\eta^{2} \\xi - 0.25 \\eta^{2} - 0.25 \\eta \\xi - 0.25 \\eta + 0.25 \\xi + 0.25 $ \\\n",
    "$ N6 = - 0.25 \\eta \\xi^{3} - 0.25 \\eta \\xi^{2} + 0.25 \\eta \\xi + 0.25 \\eta + 0.25 \\xi^{3} + 0.25 \\xi^{2} - 0.25 \\xi - 0.25 $ \\\n",
    "$ N7 = - 0.125 \\eta^{3} \\xi - 0.125 \\eta^{3} - 0.125 \\eta \\xi^{3} + 0.5 \\eta \\xi + 0.375 \\eta - 0.125 \\xi^{3} + 0.375 \\xi + 0.25 $ \\\n",
    "$ N8 = 0.25 \\eta^{3} \\xi + 0.25 \\eta^{3} + 0.25 \\eta^{2} \\xi + 0.25 \\eta^{2} - 0.25 \\eta \\xi - 0.25 \\eta - 0.25 \\xi - 0.25 $ \\\n",
    "$ N9 = 0.25 \\eta \\xi^{3} + 0.25 \\eta \\xi^{2} - 0.25 \\eta \\xi - 0.25 \\eta + 0.25 \\xi^{3} + 0.25 \\xi^{2} - 0.25 \\xi - 0.25 $ \\\n",
    "$ N10 = 0.125 \\eta^{3} \\xi - 0.125 \\eta^{3} + 0.125 \\eta \\xi^{3} - 0.5 \\eta \\xi + 0.375 \\eta + 0.125 \\xi^{3} - 0.375 \\xi + 0.25 $ \\\n",
    "$ N11 = - 0.25 \\eta^{3} \\xi + 0.25 \\eta^{3} - 0.25 \\eta^{2} \\xi + 0.25 \\eta^{2} + 0.25 \\eta \\xi - 0.25 \\eta + 0.25 \\xi - 0.25 $ \\\n",
    "$ N12 = 0.25 \\eta \\xi^{3} - 0.25 \\eta \\xi^{2} - 0.25 \\eta \\xi + 0.25 \\eta + 0.25 \\xi^{3} - 0.25 \\xi^{2} - 0.25 \\xi + 0.25 $ "
   ]
  },
  {
   "cell_type": "code",
   "execution_count": 10,
   "metadata": {},
   "outputs": [
    {
     "data": {
      "text/latex": [
       "$- 0.1875 \\eta \\xi - 2.25558617710921 \\cdot 10^{-17} \\eta + 0.1875 \\xi - 2.25558617710921 \\cdot 10^{-17}$"
      ],
      "text/plain": [
       "-0.1875*eta*xi - 2.25558617710921e-17*eta + 0.1875*xi - 2.25558617710921e-17"
      ]
     },
     "metadata": {},
     "output_type": "display_data"
    }
   ],
   "source": [
    "(1/(a^2)) *diff(diff(phi[1],xi),xi)"
   ]
  },
  {
   "cell_type": "code",
   "execution_count": 11,
   "metadata": {},
   "outputs": [
    {
     "data": {
      "text/latex": [
       "$- 0.1875 \\eta \\xi - 2.25558617710921 \\cdot 10^{-17} \\eta + 0.1875 \\xi - 2.25558617710921 \\cdot 10^{-17}$"
      ],
      "text/plain": [
       "-0.1875*eta*xi - 2.25558617710921e-17*eta + 0.1875*xi - 2.25558617710921e-17"
      ]
     },
     "metadata": {},
     "output_type": "display_data"
    }
   ],
   "source": [
    "B1(f, xxXi,xxEta) = (1/(a^2)) * diff(diff(f,xxXi),xxXi)\n",
    "B2(f, xxXi,xxEta) = (1/(b^2)) * diff(diff(f,xxEta),xxEta)\n",
    "B3(f, xxXi,xxEta) = (2/(a*b)) * diff(diff(f,xxXi),xxEta)\n",
    "B1(phi[1],xi,eta)"
   ]
  },
  {
   "cell_type": "code",
   "execution_count": 12,
   "metadata": {},
   "outputs": [
    {
     "data": {
      "text/plain": [
       "12×12 Matrix{Any}:\n",
       "                                                                                          (-0.1875*eta*xi + 0.1875*eta)*(-0.1875*conjugate(eta)*conjugate(xi) + 0.1875*conjugate(eta)) + (-0.1875*eta^2 - 0.1875*xi^2 - 4.51117235421841e-17*xi + 0.25)*(-0.1875*conjugate(eta)^2 - 0.1875*conjugate(xi)^2 - 4.51117235421841e-17*conjugate(xi) + 0.25) + (-0.1875*eta*xi - 2.25558617710921e-17*eta + 0.1875*xi - 2.25558617710921e-17)*(-0.1875*conjugate(eta)*conjugate(xi) - 2.25558617710921e-17*conjugate(eta) + 0.1875*conjugate(xi) - 2.25558617710921e-17)  …                                                                (0.375*xi^2 - 0.25*xi - 0.125)*(-0.1875*conjugate(eta)^2 - 0.1875*conjugate(xi)^2 - 4.51117235421841e-17*conjugate(xi) + 0.25) + (0.375*eta*xi - 0.125*eta + 0.375*xi - 0.125)*(-0.1875*conjugate(eta)*conjugate(xi) - 2.25558617710921e-17*conjugate(eta) + 0.1875*conjugate(xi) - 2.25558617710921e-17)\n",
       "                                                                                                 (-0.1875*eta*xi + 0.1875*eta)*(-0.375*conjugate(eta)*conjugate(xi) + 0.375*conjugate(eta) + 0.125*conjugate(xi) - 0.125) + (2.18366146673075e-16*conjugate(eta)*conjugate(xi) + 2.18366146673075e-16*conjugate(xi))*(-0.1875*eta*xi - 2.25558617710921e-17*eta + 0.1875*xi - 2.25558617710921e-17) + (-0.1875*eta^2 - 0.1875*xi^2 - 4.51117235421841e-17*xi + 0.25)*(-0.375*conjugate(eta)^2 + 0.25*conjugate(eta) + 2.18366146673075e-16*conjugate(xi)^2 + 0.125)                                                                                                      (2.18366146673075e-16*conjugate(eta)*conjugate(xi) + 2.18366146673075e-16*conjugate(xi))*(0.375*eta*xi - 0.125*eta + 0.375*xi - 0.125) + (0.375*xi^2 - 0.25*xi - 0.125)*(-0.375*conjugate(eta)^2 + 0.25*conjugate(eta) + 2.18366146673075e-16*conjugate(xi)^2 + 0.125)\n",
       "                                                                                                                                                                                                                                                                   (-0.375*conjugate(xi)^2 + 0.25*conjugate(xi) + 0.125)*(-0.1875*eta^2 - 0.1875*xi^2 - 4.51117235421841e-17*xi + 0.25) + (-0.1875*eta*xi - 2.25558617710921e-17*eta + 0.1875*xi - 2.25558617710921e-17)*(-0.375*conjugate(eta)*conjugate(xi) + 0.125*conjugate(eta) + 0.375*conjugate(xi) - 0.125)                                                                                                                                             (0.375*xi^2 - 0.25*xi - 0.125)*(-0.375*conjugate(xi)^2 + 0.25*conjugate(xi) + 0.125) + (0.375*eta*xi - 0.125*eta + 0.375*xi - 0.125)*(-0.375*conjugate(eta)*conjugate(xi) + 0.125*conjugate(eta) + 0.375*conjugate(xi) - 0.125)\n",
       "                                                                                             (-0.1875*eta*xi + 0.1875*eta)*(0.1875*conjugate(eta)*conjugate(xi) + 0.1875*conjugate(eta)) + (-0.1875*eta^2 - 0.1875*xi^2 - 4.51117235421841e-17*xi + 0.25)*(0.1875*conjugate(eta)^2 + 0.1875*conjugate(xi)^2 + 6.87341683918938e-17*conjugate(xi) - 0.25) + (-0.1875*eta*xi - 2.25558617710921e-17*eta + 0.1875*xi - 2.25558617710921e-17)*(0.1875*conjugate(eta)*conjugate(xi) + 3.43670841959469e-17*conjugate(eta) - 0.1875*conjugate(xi) + 3.43670841959469e-17)                                                                     (0.375*xi^2 - 0.25*xi - 0.125)*(0.1875*conjugate(eta)^2 + 0.1875*conjugate(xi)^2 + 6.87341683918938e-17*conjugate(xi) - 0.25) + (0.375*eta*xi - 0.125*eta + 0.375*xi - 0.125)*(0.1875*conjugate(eta)*conjugate(xi) + 3.43670841959469e-17*conjugate(eta) - 0.1875*conjugate(xi) + 3.43670841959469e-17)\n",
       " (-0.1875*eta*xi + 0.1875*eta)*(0.375*conjugate(eta)*conjugate(xi) + 0.375*conjugate(eta) - 0.125*conjugate(xi) - 0.125) + (-0.1875*eta^2 - 0.1875*xi^2 - 4.51117235421841e-17*xi + 0.25)*(0.375*conjugate(eta)^2 - 0.25*conjugate(eta) + 3.27549220009613e-16*conjugate(xi)^2 + 5.45915366682688e-17*conjugate(xi) - 0.125) + (-0.1875*eta*xi - 2.25558617710921e-17*eta + 0.1875*xi - 2.25558617710921e-17)*(3.27549220009613e-16*conjugate(eta)*conjugate(xi) + 2.72957683341344e-17*conjugate(eta) + 3.27549220009613e-16*conjugate(xi) + 2.72957683341344e-17)     (0.375*xi^2 - 0.25*xi - 0.125)*(0.375*conjugate(eta)^2 - 0.25*conjugate(eta) + 3.27549220009613e-16*conjugate(xi)^2 + 5.45915366682688e-17*conjugate(xi) - 0.125) + (0.375*eta*xi - 0.125*eta + 0.375*xi - 0.125)*(3.27549220009613e-16*conjugate(eta)*conjugate(xi) + 2.72957683341344e-17*conjugate(eta) + 3.27549220009613e-16*conjugate(xi) + 2.72957683341344e-17)\n",
       "                                                                                                                                                                                                                                                                   (-0.375*conjugate(xi)^2 - 0.25*conjugate(xi) + 0.125)*(-0.1875*eta^2 - 0.1875*xi^2 - 4.51117235421841e-17*xi + 0.25) + (-0.1875*eta*xi - 2.25558617710921e-17*eta + 0.1875*xi - 2.25558617710921e-17)*(-0.375*conjugate(eta)*conjugate(xi) - 0.125*conjugate(eta) + 0.375*conjugate(xi) + 0.125)  …                                                                                                                                          (0.375*xi^2 - 0.25*xi - 0.125)*(-0.375*conjugate(xi)^2 - 0.25*conjugate(xi) + 0.125) + (0.375*eta*xi - 0.125*eta + 0.375*xi - 0.125)*(-0.375*conjugate(eta)*conjugate(xi) - 0.125*conjugate(eta) + 0.375*conjugate(xi) + 0.125)\n",
       "                                                                                          (-0.1875*eta*xi + 0.1875*eta)*(-0.1875*conjugate(eta)*conjugate(xi) - 0.1875*conjugate(eta)) + (-0.1875*eta^2 - 0.1875*xi^2 - 4.51117235421841e-17*xi + 0.25)*(-0.1875*conjugate(eta)^2 - 0.1875*conjugate(xi)^2 - 9.63470111198796e-17*conjugate(xi) + 0.25) + (-0.1875*eta*xi - 2.25558617710921e-17*eta + 0.1875*xi - 2.25558617710921e-17)*(-0.1875*conjugate(eta)*conjugate(xi) - 4.81735055599398e-17*conjugate(eta) - 0.1875*conjugate(xi) - 4.81735055599398e-17)                                                                   (0.375*xi^2 - 0.25*xi - 0.125)*(-0.1875*conjugate(eta)^2 - 0.1875*conjugate(xi)^2 - 9.63470111198796e-17*conjugate(xi) + 0.25) + (0.375*eta*xi - 0.125*eta + 0.375*xi - 0.125)*(-0.1875*conjugate(eta)*conjugate(xi) - 4.81735055599398e-17*conjugate(eta) - 0.1875*conjugate(xi) - 4.81735055599398e-17)\n",
       "                                                                                                     (-0.1875*eta*xi + 0.1875*eta)*(0.375*conjugate(eta)*conjugate(xi) + 0.375*conjugate(eta) + 0.125*conjugate(xi) + 0.125) + (-4.4504536369013e-17*conjugate(eta)*conjugate(xi) - 4.4504536369013e-17*conjugate(xi))*(-0.1875*eta*xi - 2.25558617710921e-17*eta + 0.1875*xi - 2.25558617710921e-17) + (-0.1875*eta^2 - 0.1875*xi^2 - 4.51117235421841e-17*xi + 0.25)*(0.375*conjugate(eta)^2 + 0.25*conjugate(eta) - 4.4504536369013e-17*conjugate(xi)^2 - 0.125)                                                                                                         (-4.4504536369013e-17*conjugate(eta)*conjugate(xi) - 4.4504536369013e-17*conjugate(xi))*(0.375*eta*xi - 0.125*eta + 0.375*xi - 0.125) + (0.375*xi^2 - 0.25*xi - 0.125)*(0.375*conjugate(eta)^2 + 0.25*conjugate(eta) - 4.4504536369013e-17*conjugate(xi)^2 - 0.125)\n",
       "                                                                                                                                                                                                                                                                     (0.375*conjugate(xi)^2 + 0.25*conjugate(xi) - 0.125)*(-0.1875*eta^2 - 0.1875*xi^2 - 4.51117235421841e-17*xi + 0.25) + (-0.1875*eta*xi - 2.25558617710921e-17*eta + 0.1875*xi - 2.25558617710921e-17)*(0.375*conjugate(eta)*conjugate(xi) + 0.125*conjugate(eta) + 0.375*conjugate(xi) + 0.125)                                                                                                                                               (0.375*xi^2 - 0.25*xi - 0.125)*(0.375*conjugate(xi)^2 + 0.25*conjugate(xi) - 0.125) + (0.375*eta*xi - 0.125*eta + 0.375*xi - 0.125)*(0.375*conjugate(eta)*conjugate(xi) + 0.125*conjugate(eta) + 0.375*conjugate(xi) + 0.125)\n",
       "                                                                                                                                                                                               (-0.1875*eta*xi + 0.1875*eta)*(0.1875*conjugate(eta)*conjugate(xi) - 0.1875*conjugate(eta)) + (0.1875*conjugate(eta)*conjugate(xi) + 0.1875*conjugate(xi))*(-0.1875*eta*xi - 2.25558617710921e-17*eta + 0.1875*xi - 2.25558617710921e-17) + (0.1875*conjugate(eta)^2 + 0.1875*conjugate(xi)^2 - 0.25)*(-0.1875*eta^2 - 0.1875*xi^2 - 4.51117235421841e-17*xi + 0.25)                                                                                                                                                                       (0.1875*conjugate(eta)*conjugate(xi) + 0.1875*conjugate(xi))*(0.375*eta*xi - 0.125*eta + 0.375*xi - 0.125) + (0.375*xi^2 - 0.25*xi - 0.125)*(0.1875*conjugate(eta)^2 + 0.1875*conjugate(xi)^2 - 0.25)\n",
       "                                                                                                                                                                                                                                                                                                                  (-0.1875*eta*xi + 0.1875*eta)*(-0.375*conjugate(eta)*conjugate(xi) + 0.375*conjugate(eta) - 0.125*conjugate(xi) + 0.125) + (-0.375*conjugate(eta)^2 - 0.25*conjugate(eta) + 0.125)*(-0.1875*eta^2 - 0.1875*xi^2 - 4.51117235421841e-17*xi + 0.25)  …                                                                                                                                                                                                                                                                                   (0.375*xi^2 - 0.25*xi - 0.125)*(-0.375*conjugate(eta)^2 - 0.25*conjugate(eta) + 0.125)\n",
       "                                                                                                                                                                                                                                                                     (0.375*conjugate(xi)^2 - 0.25*conjugate(xi) - 0.125)*(-0.1875*eta^2 - 0.1875*xi^2 - 4.51117235421841e-17*xi + 0.25) + (-0.1875*eta*xi - 2.25558617710921e-17*eta + 0.1875*xi - 2.25558617710921e-17)*(0.375*conjugate(eta)*conjugate(xi) - 0.125*conjugate(eta) + 0.375*conjugate(xi) - 0.125)                                                                                                                                               (0.375*xi^2 - 0.25*xi - 0.125)*(0.375*conjugate(xi)^2 - 0.25*conjugate(xi) - 0.125) + (0.375*eta*xi - 0.125*eta + 0.375*xi - 0.125)*(0.375*conjugate(eta)*conjugate(xi) - 0.125*conjugate(eta) + 0.375*conjugate(xi) - 0.125)"
      ]
     },
     "metadata": {},
     "output_type": "display_data"
    }
   ],
   "source": [
    "Be = Array{Any}(undef,3,12)\n",
    "for i = 1:12\n",
    "    Be[1,i] = B1(phi[i],xi,eta)\n",
    "    Be[2,i] = B2(phi[i],xi,eta)\n",
    "    Be[3,i] = B3(phi[i],xi,eta)\n",
    "end \n",
    "Be' * Be"
   ]
  },
  {
   "cell_type": "markdown",
   "metadata": {},
   "source": [
    "## 3D Plot Basisfunktionen"
   ]
  },
  {
   "cell_type": "code",
   "execution_count": 15,
   "metadata": {},
   "outputs": [
    {
     "data": {
      "text/plain": [
       "AdHocMapping{StaticArraysCore.SVector{2, <:Real}, Float64, (-1 .. 1) × (-1 .. 1)}(var\"#57#58\"())"
      ]
     },
     "metadata": {},
     "output_type": "display_data"
    }
   ],
   "source": [
    "h1 = makefunction(x -> - 0.125 * x[1]^3 * x[2] + 0.125 * x[1]^3 - 0.125 * x[1] * x[2]^3 + 0.5 * x[1] * x[2] - 0.375 * x[1] + 0.125 * x[2]^3 - 0.375 * x[2] + 0.25, -1 .. 1, -1 .. 1)\n",
    "h4 = makefunction(x -> + 0.125 * x[1]^3 * x[2] + 0.125 * x[1]^3 + 0.125 * x[1] * x[2]^3 - 0.5 * x[1] * x[2] - 0.375 * x[1] - 0.125 * x[2]^3 + 0.375 * x[2] + 0.25, -1 .. 1, -1 .. 1)\n",
    "h7 = makefunction(x -> - 0.125 * x[1]^3 * x[2] - 0.125 * x[1]^3 - 0.125 * x[1] * x[2]^3 + 0.5 * x[1] * x[2] + 0.375 * x[1] - 0.125 * x[2]^3 + 0.375 * x[2] + 0.25, -1 .. 1, -1 .. 1)\n",
    "h10 = makefunction(x -> + 0.125 * x[1]^3 * x[2] - 0.125 * x[1]^3 + 0.125 * x[1] * x[2]^3 - 0.5 * x[1] * x[2] + 0.375 * x[1] + 0.125 * x[2]^3 - 0.375 * x[2] + 0.25, -1 .. 1, -1 .. 1)\n",
    "\n",
    "h2 = makefunction( x -> - 0.25 * x[1]^3 * x[2] + 0.25 * x[1]^3 + 0.25 * x[1]^2 * x[2] - 0.25 * x[1]^2 + 0.25 * x[1] * x[2] - 0.25 * x[1] - 0.25 * x[2] + 0.25, -1 .. 1, -1 .. 1)\n",
    "h5 = makefunction( x -> + 0.25 * x[1]^3 * x[2] + 0.25 * x[1]^3 - 0.25 * x[1]^2 * x[2] - 0.25 * x[1]^2 - 0.25 * x[1] * x[2] - 0.25 * x[1] + 0.25 * x[2] + 0.25, -1 .. 1, -1 .. 1)\n",
    "h8 = makefunction( x -> + 0.25 * x[1]^3 * x[2] + 0.25 * x[1]^3 + 0.25 * x[1]^2 * x[2] + 0.25 * x[1]^2 - 0.25 * x[1] * x[2] - 0.25 * x[1] - 0.25 * x[2] - 0.25, -1 .. 1, -1 .. 1)\n",
    "h11 = makefunction(x -> - 0.25 * x[1]^3 * x[2] + 0.25 * x[1]^3 - 0.25 * x[1]^2 * x[2] + 0.25 * x[1]^2 + 0.25 * x[1] * x[2] - 0.25 * x[1] + 0.25 * x[2] - 0.25, -1 .. 1, -1 .. 1)\n",
    "\n",
    "h3 = makefunction( x -> - 0.25 * x[1] * x[2]^3 + 0.25 * x[1] * x[2]^2 + 0.25 * x[1] * x[2] - 0.25 * x[1] + 0.25 * x[2]^3 - 0.25 * x[2]^2 - 0.25 * x[2] + 0.25, -1 .. 1, -1 .. 1)\n",
    "h6 = makefunction( x -> - 0.25 * x[1] * x[2]^3 - 0.25 * x[1] * x[2]^2 + 0.25 * x[1] * x[2] + 0.25 * x[1] + 0.25 * x[2]^3 + 0.25 * x[2]^2 - 0.25 * x[2] - 0.25, -1 .. 1, -1 .. 1)\n",
    "h9 = makefunction( x -> + 0.25 * x[1] * x[2]^3 + 0.25 * x[1] * x[2]^2 - 0.25 * x[1] * x[2] - 0.25 * x[1] + 0.25 * x[2]^3 + 0.25 * x[2]^2 - 0.25 * x[2] - 0.25, -1 .. 1, -1 .. 1)\n",
    "h12 = makefunction(x -> + 0.25 * x[1] * x[2]^3 - 0.25 * x[1] * x[2]^2 - 0.25 * x[1] * x[2] + 0.25 * x[1] + 0.25 * x[2]^3 - 0.25 * x[2]^2 - 0.25 * x[2] + 0.25, -1 .. 1, -1 .. 1)\n"
   ]
  },
  {
   "cell_type": "code",
   "execution_count": 16,
   "metadata": {},
   "outputs": [],
   "source": [
    "fplot3d(h1,mesh=10)"
   ]
  },
  {
   "cell_type": "code",
   "execution_count": 17,
   "metadata": {},
   "outputs": [],
   "source": [
    "fig = Figure()\n",
    "ax3d = Axis3(fig[1, 1])\n",
    "fplot3d!(ax3d, h1, npoints=250, mesh=nothing)\n",
    "fplot3d!(ax3d, h4, npoints=250, mesh=nothing)\n",
    "fplot3d!(ax3d, h7, npoints=250, mesh=nothing)\n",
    "fig"
   ]
  },
  {
   "cell_type": "markdown",
   "metadata": {},
   "source": [
    "## Vergleichsrechnung"
   ]
  },
  {
   "cell_type": "code",
   "execution_count": 18,
   "metadata": {},
   "outputs": [
    {
     "data": {
      "text/plain": [
       "Nj3 (generic function with 1 method)"
      ]
     },
     "metadata": {},
     "output_type": "display_data"
    }
   ],
   "source": [
    "@syms xi eta a b \n",
    "\n",
    "Nj1(xiJ,etaJ) = 1/8 * (1 + (xiJ * xi)) * (1 + (etaJ * eta)) * (2 + (xiJ * xi) + (etaJ * eta) - xi^2 - eta^2) \n",
    "Nj2(xiJ,etaJ) = b/8 * (1 + (xiJ * xi)) * (eta + etaJ) * (eta^2 - 1)\n",
    "Nj3(xiJ,etaJ) = a/8 * (xiJ + xi) * (1 + (eta * etaJ)) * (xi^2 - 1)\n"
   ]
  },
  {
   "cell_type": "code",
   "execution_count": 19,
   "metadata": {},
   "outputs": [
    {
     "data": {
      "text/latex": [
       "$0.25 \\eta \\xi^{3} - 0.25 \\eta \\xi^{2} - 0.25 \\eta \\xi + 0.25 \\eta + 0.25 \\xi^{3} - 0.25 \\xi^{2} - 0.25 \\xi + 0.25$"
      ],
      "text/plain": [
       "           3              2                                   3          2    \n",
       "0.25*eta*xi  - 0.25*eta*xi  - 0.25*eta*xi + 0.25*eta + 0.25*xi  - 0.25*xi  - 0\n",
       "\n",
       "             \n",
       ".25*xi + 0.25"
      ]
     },
     "metadata": {},
     "output_type": "display_data"
    }
   ],
   "source": [
    "N = Vector{Any}(undef,12)\n",
    "\n",
    "b = 2\n",
    "a = 2\n",
    "# Punkt 1 (-a/2, -b/2)  = (-1,-1)\n",
    "N[1] = Nj1(-a/2, -b/2)\n",
    "N[2] = Nj2(-a/2, -b/2)\n",
    "N[3] = Nj3(-a/2, -b/2)\n",
    "# Punkt 2 (a/2, -b/2)   = (1,-1)\n",
    "N[4] = Nj1(a/2, -b/2)\n",
    "N[5] = Nj2(a/2, -b/2)\n",
    "N[6] = Nj3(a/2, -b/2)\n",
    "# Punkt 3 (a/2, b/2)    = (1,1)\n",
    "N[7] = Nj1(a/2, b/2)\n",
    "N[8] = Nj2(a/2, b/2)\n",
    "N[9] = Nj3(a/2, b/2)\n",
    "# Punkt 4 (-a/2, b/2)   = (-1,1)\n",
    "N[10] = Nj1(-a/2, b/2)\n",
    "N[11] = Nj2(-a/2, b/2)\n",
    "N[12] = Nj3(-a/2, b/2)\n",
    "\n",
    "display(expand(N[12]))"
   ]
  },
  {
   "cell_type": "markdown",
   "metadata": {},
   "source": [
    "## 2D Plot"
   ]
  },
  {
   "cell_type": "code",
   "execution_count": 20,
   "metadata": {},
   "outputs": [
    {
     "data": {
      "text/plain": [
       "valueat (generic function with 26 methods)"
      ]
     },
     "metadata": {},
     "output_type": "display_data"
    }
   ],
   "source": [
    "import MMJMesh\n",
    "import MMJMesh.Mathematics.valueat\n",
    "\n",
    "struct ValueAtLF <: AbstractMapping{FunctionRToR,Real,Any}\n",
    "    x::Real\n",
    "end\n",
    "valueat(u::ValueAtLF, f::FunctionRToR) = f(u.x)\n",
    "\n",
    "struct DerivativeAtLF <: AbstractMapping{FunctionRToR,Real,Any}\n",
    "    x::Real\n",
    "end\n",
    "valueat(u::DerivativeAtLF, f::FunctionRToR) = f'(u.x)"
   ]
  },
  {
   "cell_type": "code",
   "execution_count": 21,
   "metadata": {},
   "outputs": [],
   "source": [
    "h = 2.0\n",
    "N = [ValueAtLF.(0:h/2:h); DerivativeAtLF.([0, h])] |> vcat\n",
    "P = monomials(0:length(N)-1, 0..h)\n",
    "M = [n(p) for p in P, n in N]\n",
    "H = inv(M) * P\n",
    "fplot(H...)"
   ]
  },
  {
   "cell_type": "markdown",
   "metadata": {},
   "source": [
    "## Nebenrechnung (nicht mehr wichtig...)"
   ]
  },
  {
   "cell_type": "code",
   "execution_count": 22,
   "metadata": {},
   "outputs": [
    {
     "data": {
      "text/latex": [
       "$\\left[\\begin{smallmatrix}\\overline{a_{1}} - \\overline{a_{10}} + \\overline{a_{11}} + \\overline{a_{12}} - \\overline{a_{2}} - \\overline{a_{3}} + \\overline{a_{4}} + \\overline{a_{5}} + \\overline{a_{6}} - \\overline{a_{7}} - \\overline{a_{8}} - \\overline{a_{9}} & 3 \\overline{a_{10}} - \\overline{a_{11}} - 3 \\overline{a_{12}} + \\overline{a_{3}} - \\overline{a_{5}} - 2 \\overline{a_{6}} + \\overline{a_{8}} + 2 \\overline{a_{9}} & 3 \\overline{a_{11}} + \\overline{a_{12}} - \\overline{a_{2}} + 2 \\overline{a_{4}} + \\overline{a_{5}} - 3 \\overline{a_{7}} - 2 \\overline{a_{8}} - \\overline{a_{9}} & \\overline{a_{1}} + \\overline{a_{10}} - \\overline{a_{11}} - \\overline{a_{12}} + \\overline{a_{2}} - \\overline{a_{3}} + \\overline{a_{4}} - \\overline{a_{5}} + \\overline{a_{6}} + \\overline{a_{7}} + \\overline{a_{8}} - \\overline{a_{9}} & 3 \\overline{a_{10}} + \\overline{a_{11}} + 3 \\overline{a_{12}} + \\overline{a_{3}} + \\overline{a_{5}} - 2 \\overline{a_{6}} + \\overline{a_{8}} - 2 \\overline{a_{9}} & 3 \\overline{a_{11}} + \\overline{a_{12}} - \\overline{a_{2}} - 2 \\overline{a_{4}} + \\overline{a_{5}} - 3 \\overline{a_{7}} + 2 \\overline{a_{8}} - \\overline{a_{9}} & \\overline{a_{1}} + \\overline{a_{10}} + \\overline{a_{11}} + \\overline{a_{12}} + \\overline{a_{2}} + \\overline{a_{3}} + \\overline{a_{4}} + \\overline{a_{5}} + \\overline{a_{6}} + \\overline{a_{7}} + \\overline{a_{8}} + \\overline{a_{9}} & 3 \\overline{a_{10}} + \\overline{a_{11}} + 3 \\overline{a_{12}} + \\overline{a_{3}} + \\overline{a_{5}} + 2 \\overline{a_{6}} + \\overline{a_{8}} + 2 \\overline{a_{9}} & - 3 \\overline{a_{11}} - \\overline{a_{12}} - \\overline{a_{2}} - 2 \\overline{a_{4}} - \\overline{a_{5}} - 3 \\overline{a_{7}} - 2 \\overline{a_{8}} - \\overline{a_{9}} & \\overline{a_{1}} + \\overline{a_{10}} - \\overline{a_{11}} - \\overline{a_{12}} - \\overline{a_{2}} + \\overline{a_{3}} + \\overline{a_{4}} - \\overline{a_{5}} + \\overline{a_{6}} - \\overline{a_{7}} + \\overline{a_{8}} - \\overline{a_{9}} & 3 \\overline{a_{10}} - \\overline{a_{11}} - 3 \\overline{a_{12}} + \\overline{a_{3}} - \\overline{a_{5}} + 2 \\overline{a_{6}} + \\overline{a_{8}} - 2 \\overline{a_{9}} & - 3 \\overline{a_{11}} - \\overline{a_{12}} - \\overline{a_{2}} + 2 \\overline{a_{4}} - \\overline{a_{5}} + 3 \\overline{a_{7}} + 2 \\overline{a_{8}} - \\overline{a_{9}}\\end{smallmatrix}\\right]$"
      ],
      "text/plain": [
       "1×12 adjoint(::Vector{Sym{PyCall.PyObject}}) with eltype Sym{PyCall.PyObject}:\n",
       " conjugate(a1) - conjugate(a10) + conjugate(a11) + conjugate(a12) - conjugate(a2) - conjugate(a3) + conjugate(a4) + conjugate(a5) + conjugate(a6) - conjugate(a7) - conjugate(a8) - conjugate(a9)  …  -3*conjugate(a11) - conjugate(a12) - conjugate(a2) + 2*conjugate(a4) - conjugate(a5) + 3*conjugate(a7) + 2*conjugate(a8) - conjugate(a9)"
      ]
     },
     "metadata": {},
     "output_type": "display_data"
    }
   ],
   "source": [
    "@syms a1 a2 a3 a4 a5 a6 a7 a8 a9 a10 a11 a12 xi eta\n",
    "Ae = [  1  -1 -1 1  1  1  -1 -1 -1 -1 1  1;\n",
    "        0  0  1  0  -1 -2 0  1  2  3  -1 -3;\n",
    "        0  -1 0  2  1  0  -3 -2 -1 0  3  1;\n",
    "        1  1  -1 1  -1 1  1  1  -1 1  -1 -1;\n",
    "        0  0  1  0  1  -2 0  1  -2 3  1  3;\n",
    "        0  -1 0  -2 1  0  -3 2  -1 0  3  1;\n",
    "        1  1  1  1  1  1  1  1  1  1  1  1;\n",
    "        0  0  1  0  1  2  0  1  2  3  1  3;\n",
    "        0  -1 0  -2 -1 0  -3 -2 -1 0  -3 -1;\n",
    "        1  -1 1  1  -1 1  -1 1  -1 1  -1 -1;\n",
    "        0  0  1  0  -1 2  0  1  -2 3  -1 -3;\n",
    "        0  -1 0  2  -1 0  3  2  -1 0  -3 -1]\n",
    "alpha = [a1, a2, a3, a4, a5, a6, a7, a8, a9, a10, a11, a12]\n",
    "P = [1, xi, eta, xi^2, xi*eta, eta^2, xi^3, xi^2*eta, xi*eta^2, eta^3, xi^3*eta, xi*eta^3]\n",
    "We = Ae * alpha\n",
    "w = P' * alpha\n",
    "# # Ableitung nach xi\n",
    "# wXi = diff(w,xi)\n",
    "# # Ableitung nach eta\n",
    "# wEta = diff(w,eta)\n",
    "\n",
    "# thetaX = (1/a) * wXi\n",
    "# thetaY = (1/b) * wEta\n",
    "phiRef = (Ae) * P\n",
    "We'"
   ]
  }
 ],
 "metadata": {
  "kernelspec": {
   "display_name": "Julia 1.10.0",
   "language": "julia",
   "name": "julia-1.10"
  },
  "language_info": {
   "file_extension": ".jl",
   "mimetype": "application/julia",
   "name": "julia",
   "version": "1.10.0"
  }
 },
 "nbformat": 4,
 "nbformat_minor": 2
}
