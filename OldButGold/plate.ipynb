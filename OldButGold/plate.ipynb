{
 "cells": [
  {
   "cell_type": "code",
   "execution_count": 1,
   "metadata": {},
   "outputs": [
    {
     "name": "stderr",
     "output_type": "stream",
     "text": [
      "\u001b[32m\u001b[1m    Updating\u001b[22m\u001b[39m git-repo `https://github.com/matthiasbaitsch/mmjmesh.git`\n",
      "\u001b[32m\u001b[1m   Resolving\u001b[22m\u001b[39m package versions...\n",
      "\u001b[32m\u001b[1m  No Changes\u001b[22m\u001b[39m to `~/.julia/environments/v1.10/Project.toml`\n",
      "\u001b[32m\u001b[1m  No Changes\u001b[22m\u001b[39m to `~/.julia/environments/v1.10/Manifest.toml`\n"
     ]
    }
   ],
   "source": [
    "import Pkg\n",
    "\n",
    "import CairoMakie\n",
    "\n",
    "using IntervalSets\n",
    "using MMJMesh.Gmsh\n",
    "using MMJMesh.Plots\n",
    "using MMJMesh.Meshes\n",
    "using MMJMesh.Utilities\n",
    "using MMJMesh.Mathematics\n",
    "using LinearAlgebra\n",
    "using Symbolics\n",
    "using DomainSets\n",
    "using CairoMakie\n",
    "\n",
    "using GLMakie\n",
    "using WGLMakie\n",
    "WGLMakie.activate!()\n",
    "\n",
    "Pkg.add(url=\"https://github.com/matthiasbaitsch/mmjmesh.git\")"
   ]
  },
  {
   "cell_type": "code",
   "execution_count": 2,
   "metadata": {},
   "outputs": [
    {
     "data": {
      "text/plain": [
       "applyDirichletBCs! (generic function with 1 method)"
      ]
     },
     "metadata": {},
     "output_type": "display_data"
    }
   ],
   "source": [
    "include(\"fem.jl\")"
   ]
  },
  {
   "cell_type": "markdown",
   "metadata": {},
   "source": [
    "### Netzgenerierung für rechteckige Platte\n",
    "\n",
    "#### quadratische FEM-Elemente\n"
   ]
  },
  {
   "cell_type": "code",
   "execution_count": 1,
   "metadata": {},
   "outputs": [
    {
     "ename": "UndefVarError",
     "evalue": "UndefVarError: `makemeshonrectangle` not defined",
     "output_type": "error",
     "traceback": [
      "UndefVarError: `makemeshonrectangle` not defined\n",
      "\n",
      "Stacktrace:\n",
      " [1] top-level scope\n",
      "   @ ~/Documents/HochschuleBO/04_Masterarbeit/JULIA2/plate.ipynb:2"
     ]
    }
   ],
   "source": [
    "l = 80\n",
    "m = makemeshonrectangle(8.0, 8.0, l, l)\n",
    "#mplot(m,edgesvisible=true,edgecolor=:hotpink,nodesvisible=true, nodecolor=:blue, nodesize=5) |> mconf()"
   ]
  },
  {
   "cell_type": "code",
   "execution_count": 4,
   "metadata": {},
   "outputs": [],
   "source": [
    "p = (\n",
    "    E = 31000e6,\n",
    "    h = 0.2,\n",
    "    ν = 0,\n",
    "    q = 5e3);"
   ]
  },
  {
   "cell_type": "code",
   "execution_count": 5,
   "metadata": {},
   "outputs": [
    {
     "data": {
      "text/plain": [
       "(::var\"#reFunc#10\"{Float64}) (generic function with 1 method)"
      ]
     },
     "metadata": {},
     "output_type": "display_data"
    }
   ],
   "source": [
    "m.data[:kefunc] = plateKe(p)\n",
    "m.data[:refunc] = plateRe(p.q)"
   ]
  },
  {
   "cell_type": "code",
   "execution_count": 7,
   "metadata": {},
   "outputs": [
    {
     "data": {
      "text/plain": [
       "0.0012541939886506785"
      ]
     },
     "metadata": {},
     "output_type": "display_data"
    }
   ],
   "source": [
    "K,r = assembleKr(m,3)\n",
    "for rN ∈ m.groups[:boundarynodes]\n",
    "    nodeD = nodeDOFs(rN,3)\n",
    "    applyDirichletBCs!(nodeD, K, r)\n",
    "end\n",
    "ma = maximum(K\\r)"
   ]
  },
  {
   "cell_type": "code",
   "execution_count": 9,
   "metadata": {},
   "outputs": [
    {
     "data": {
      "text/plain": [
       "0.0822017676525543"
      ]
     },
     "metadata": {},
     "output_type": "display_data"
    }
   ],
   "source": [
    "w_czerny = 5e3 * 8^4 / (31000e6 * 0.2^3) * 0.0152\n",
    "100 * abs(ma - w_czerny) / w_czerny"
   ]
  }
 ],
 "metadata": {
  "kernelspec": {
   "display_name": "Julia 1.10.0",
   "language": "julia",
   "name": "julia-1.10"
  },
  "language_info": {
   "file_extension": ".jl",
   "mimetype": "application/julia",
   "name": "julia",
   "version": "1.10.0"
  }
 },
 "nbformat": 4,
 "nbformat_minor": 2
}
