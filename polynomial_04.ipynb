{
 "cells": [
  {
   "cell_type": "code",
   "execution_count": 4,
   "metadata": {},
   "outputs": [
    {
     "name": "stderr",
     "output_type": "stream",
     "text": [
      "\u001b[32m\u001b[1m    Updating\u001b[22m\u001b[39m git-repo `https://github.com/matthiasbaitsch/mmjmesh.git`\n",
      "\u001b[32m\u001b[1m   Resolving\u001b[22m\u001b[39m package versions...\n",
      "\u001b[32m\u001b[1m  No Changes\u001b[22m\u001b[39m to `~/.julia/environments/v1.10/Project.toml`\n",
      "\u001b[32m\u001b[1m  No Changes\u001b[22m\u001b[39m to `~/.julia/environments/v1.10/Manifest.toml`\n"
     ]
    }
   ],
   "source": [
    "import Pkg\n",
    "\n",
    "Pkg.add(url=\"https://github.com/matthiasbaitsch/mmjmesh.git\");\n",
    "\n",
    "using IntervalSets\n",
    "using MMJMesh.Plots\n",
    "using MMJMesh.Meshes\n",
    "using MMJMesh.Utilities\n",
    "using MMJMesh.Mathematics\n",
    "using LinearAlgebra\n",
    "using Symbolics\n",
    "using DomainSets\n",
    "using CairoMakie\n",
    "\n",
    "using GLMakie\n",
    "using WGLMakie\n",
    "WGLMakie.activate!()\n",
    "CairoMakie.activate!()"
   ]
  },
  {
   "cell_type": "code",
   "execution_count": 6,
   "metadata": {},
   "outputs": [
    {
     "data": {
      "text/latex": [
       "$$ \\begin{equation}\n",
       "\\frac{h^{3} E \\left( 20 a^{4} + 14 b^{2} a^{2} + 20 b^{4} - 4 b^{2} a^{2} \\nu \\right)}{60 b^{3} a^{3} \\left( 1 - \\nu^{2} \\right)}\n",
       "\\end{equation}\n",
       " $$"
      ],
      "text/plain": [
       "(E*(20(a^4) + 14(a^2)*(b^2) + 20(b^4) - 4(a^2)*(b^2)*ν)*(h^3)) / (60(a^3)*(b^3)*(1 - (ν^2)))"
      ]
     },
     "metadata": {},
     "output_type": "display_data"
    },
    {
     "name": "stdout",
     "output_type": "stream",
     "text": [
      "Ke1,1 = Ke4,4 = Ke7,7 = Ke10,10\n",
      "             = (E*(20(a^4) + 14(a^2)*(b^2) + 20(b^4) - 4(a^2)*(b^2)*ν)*(h^3)) / (60(a^3)*(b^3)*(1 - (ν^2)))\n",
      "\n",
      "Ke1,2 = Ke2,1 = -Ke4,5 = -Ke5,4 = -Ke7,8 = -Ke8,7 = Ke10,11 = Ke11,10\n",
      "             = (E*(a^2 + 10(b^2) + 4(a^2)*ν)*(h^3)) / (60(a^2)*b*(1 - (ν^2)))\n",
      "\n",
      "Ke1,3 = Ke3,1 = Ke4,6 = Ke6,4 = -Ke7,9 = -Ke9,7 = -Ke10,12 = -Ke12,10\n",
      "             = (E*(10(a^2) + b^2 + 4(b^2)*ν)*(h^3)) / (60a*(b^2)*(1 - (ν^2)))\n",
      "\n",
      "Ke1,4 = Ke4,1 = Ke7,10 = Ke10,7\n",
      "             = (E*(10(a^4) - 14(a^2)*(b^2) - 20(b^4) + 4(a^2)*(b^2)*ν)*(h^3)) / (60(a^3)*(b^3)*(1 - (ν^2)))\n",
      "\n",
      "Ke1,5 = -Ke2,4 = -Ke4,2 = Ke5,1 = -Ke7,11 = Ke8,10 = Ke10,8 = -Ke11,7\n",
      "             = (E*(a^2 + 10(b^2) - (a^2)*ν)*(h^3)) / (60(a^2)*b*(1 - (ν^2)))\n",
      "\n",
      "Ke1,6 = Ke3,4 = Ke4,3 = Ke6,1 = -Ke7,12 = -Ke9,10 = -Ke10,9 = -Ke12,7\n",
      "             = (E*(5(a^2) - (b^2) - 4(b^2)*ν)*(h^3)) / (60a*(b^2)*(1 - (ν^2)))\n",
      "\n",
      "Ke1,7 = Ke4,10 = Ke7,1 = Ke10,4\n",
      "             = (E*(-10(a^4) + 14(a^2)*(b^2) - 10(b^4) - 4(a^2)*(b^2)*ν)*(h^3)) / (60(a^3)*(b^3)*(1 - (ν^2)))\n",
      "\n",
      "Ke1,8 = -Ke2,7 = -Ke4,11 = Ke5,10 = -Ke7,2 = Ke8,1 = Ke10,5 = -Ke11,4\n",
      "             = (E*(-(a^2) + 5(b^2) + (a^2)*ν)*(h^3)) / (60(a^2)*b*(1 - (ν^2)))\n",
      "\n",
      "Ke1,9 = -Ke3,7 = Ke4,12 = -Ke6,10 = -Ke7,3 = Ke9,1 = -Ke10,6 = Ke12,4\n",
      "             = (E*(5(a^2) - (b^2) + (b^2)*ν)*(h^3)) / (60a*(b^2)*(1 - (ν^2)))\n",
      "\n",
      "Ke1,10 = Ke4,7 = Ke7,4 = Ke10,1\n",
      "             = (E*(-20(a^4) - 14(a^2)*(b^2) + 10(b^4) + 4(a^2)*(b^2)*ν)*(h^3)) / (60(a^3)*(b^3)*(1 - (ν^2)))\n",
      "\n",
      "Ke1,11 = Ke2,10 = -Ke4,8 = -Ke5,7 = -Ke7,5 = -Ke8,4 = Ke10,2 = Ke11,1\n",
      "             = (E*(-(a^2) + 5(b^2) - 4(a^2)*ν)*(h^3)) / (60(a^2)*b*(1 - (ν^2)))\n",
      "\n",
      "Ke1,12 = -Ke3,10 = Ke4,9 = -Ke6,7 = -Ke7,6 = Ke9,4 = -Ke10,3 = Ke12,1\n",
      "             = (E*(10(a^2) + b^2 - (b^2)*ν)*(h^3)) / (60a*(b^2)*(1 - (ν^2)))\n",
      "\n",
      "Ke2,2 = Ke5,5 = Ke8,8 = Ke11,11\n",
      "             = (E*(4(a^2) + 20(b^2) - 4(a^2)*ν)*(h^3)) / (180a*b*(1 - (ν^2)))\n",
      "\n",
      "Ke2,3 = Ke3,2 = -Ke5,6 = -Ke6,5 = Ke8,9 = Ke9,8 = -Ke11,12 = -Ke12,11\n",
      "             = (E*(h^3)*ν) / (12(1 - (ν^2)))\n",
      "\n",
      "Ke2,5 = Ke5,2 = Ke8,11 = Ke11,8\n",
      "             = (E*(-(a^2) + 10(b^2) + (a^2)*ν)*(h^3)) / (180a*b*(1 - (ν^2)))\n",
      "\n",
      "Ke2,6 = Ke2,9 = Ke2,12 = Ke3,5 = Ke3,8 = Ke3,11 = Ke5,3 = Ke5,9 = Ke5,12 = Ke6,2 = Ke6,8 = Ke6,11 = Ke8,3 = Ke8,6 = Ke8,12 = Ke9,2 = Ke9,5 = Ke9,11 = Ke11,3 = Ke11,6 = Ke11,9 = Ke12,2 = Ke12,5 = Ke12,8\n",
      "             = 0\n",
      "\n",
      "Ke2,8 = Ke5,11 = Ke8,2 = Ke11,5\n",
      "             = (E*(a^2 + 5(b^2) - (a^2)*ν)*(h^3)) / (180a*b*(1 - (ν^2)))\n",
      "\n",
      "Ke2,11 = Ke5,8 = Ke8,5 = Ke11,2\n",
      "             = (E*(-4(a^2) + 10(b^2) + 4(a^2)*ν)*(h^3)) / (180a*b*(1 - (ν^2)))\n",
      "\n",
      "Ke3,3 = Ke6,6 = Ke9,9 = Ke12,12\n",
      "             = (E*(20(a^2) + 4(b^2) - 4(b^2)*ν)*(h^3)) / (180a*b*(1 - (ν^2)))\n",
      "\n",
      "Ke3,6 = Ke6,3 = Ke9,12 = Ke12,9\n",
      "             = (E*(10(a^2) - 4(b^2) + 4(b^2)*ν)*(h^3)) / (180a*b*(1 - (ν^2)))\n",
      "\n",
      "Ke3,9 = Ke6,12 = Ke9,3 = Ke12,6\n",
      "             = (E*(5(a^2) + b^2 - (b^2)*ν)*(h^3)) / (180a*b*(1 - (ν^2)))\n",
      "\n",
      "Ke3,12 = Ke6,9 = Ke9,6 = Ke12,3\n",
      "             = (E*(10(a^2) - (b^2) + (b^2)*ν)*(h^3)) / (180a*b*(1 - (ν^2)))\n",
      "\n"
     ]
    }
   ],
   "source": [
    "# a = 1\n",
    "# b = 1\n",
    "# E = 1\n",
    "# h = 1\n",
    "# ν = 0.5\n",
    "\n",
    "include(\"element_stiffness_matrix_var.jl\")"
   ]
  },
  {
   "cell_type": "markdown",
   "metadata": {},
   "source": [
    "$$ \\begin{equation}\n",
    "\\frac{h^{3} E \\left( 20 a^{4} + 14 b^{2} a^{2} + 20 b^{4} - 4 b^{2} a^{2} \\nu \\right)}{60 b^{3} a^{3} \\left( 1 - \\nu^{2} \\right)}\n",
    "\\end{equation}\n",
    " $$"
   ]
  },
  {
   "cell_type": "markdown",
   "metadata": {},
   "source": [
    "$$ \\begin{equation}\n",
    "\\frac{m^{3}  \\frac{N}{mm^{2}} \\left( m^{4} + m^{4} + m^{4}  \\right)}{m^{6}}\n",
    "\\end{equation}\n",
    " $$\n",
    "$$ \\begin{equation}\n",
    "\\frac{m^{7}  \\frac{N}{mm^{2}}}{m^{6}}\n",
    "\\end{equation}\n",
    " $$\n",
    "$$ \\begin{equation}\n",
    "{m \\frac{N}{mm^{2}}}\n",
    "\\end{equation}\n",
    " $$\n",
    "$$ \\begin{equation}\n",
    "{m \\frac{N}{0.001m * 0.001m}}\n",
    "\\end{equation}\n",
    " $$ \n",
    "$$ \\begin{equation}\n",
    "{m \\frac{N}{1e-6m^{2}}}\n",
    "\\end{equation}\n",
    " $$ \n",
    "$$ \\begin{equation}\n",
    "{\\frac{1e6 N}{m}}\n",
    "\\end{equation}\n",
    " $$ "
   ]
  },
  {
   "cell_type": "markdown",
   "metadata": {},
   "source": []
  },
  {
   "cell_type": "code",
   "execution_count": 8,
   "metadata": {},
   "outputs": [
    {
     "data": {
      "text/plain": [
       "1.0e6"
      ]
     },
     "metadata": {},
     "output_type": "display_data"
    }
   ],
   "source": [
    "1/ (0.001*0.001)"
   ]
  },
  {
   "cell_type": "code",
   "execution_count": null,
   "metadata": {},
   "outputs": [],
   "source": []
  }
 ],
 "metadata": {
  "kernelspec": {
   "display_name": "Julia 1.10.0",
   "language": "julia",
   "name": "julia-1.10"
  },
  "language_info": {
   "file_extension": ".jl",
   "mimetype": "application/julia",
   "name": "julia",
   "version": "1.10.0"
  }
 },
 "nbformat": 4,
 "nbformat_minor": 2
}
